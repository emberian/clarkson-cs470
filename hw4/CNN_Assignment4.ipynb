{
 "cells": [
  {
   "cell_type": "code",
   "execution_count": 11,
   "id": "6072cea3",
   "metadata": {},
   "outputs": [],
   "source": [
    "import tensorflow as tf\n",
    "from tensorflow.keras import datasets,layers, models\n",
    "from tensorflow import keras\n",
    "import math\n",
    "import numpy as np\n",
    "from skimage import color\n",
    "from matplotlib import pyplot as plt\n",
    "(imgs,lbls), (tst_imgs,tst_lbls) = datasets.cifar10.load_data()\n",
    "\n",
    "imgs, tst_imgs = imgs / 255.0, tst_imgs / 255.0"
   ]
  },
  {
   "cell_type": "code",
   "execution_count": 3,
   "id": "c8bac8c0",
   "metadata": {
    "scrolled": true
   },
   "outputs": [
    {
     "name": "stdout",
     "output_type": "stream",
     "text": [
      "Model: \"cifar10cnn\"\n",
      "__________________________________________________________________________________________________\n",
      " Layer (type)                   Output Shape         Param #     Connected to                     \n",
      "==================================================================================================\n",
      " input_2 (InputLayer)           [(None, 32, 32, 3)]  0           []                               \n",
      "                                                                                                  \n",
      " conv2d_60 (Conv2D)             (None, 27, 27, 2)    218         ['input_2[0][0]']                \n",
      "                                                                                                  \n",
      " conv2d_61 (Conv2D)             (None, 28, 28, 4)    304         ['input_2[0][0]']                \n",
      "                                                                                                  \n",
      " conv2d_62 (Conv2D)             (None, 29, 29, 8)    392         ['input_2[0][0]']                \n",
      "                                                                                                  \n",
      " conv2d_63 (Conv2D)             (None, 30, 30, 16)   448         ['input_2[0][0]']                \n",
      "                                                                                                  \n",
      " conv2d_64 (Conv2D)             (None, 31, 31, 32)   416         ['input_2[0][0]']                \n",
      "                                                                                                  \n",
      " max_pooling2d_60 (MaxPooling2D  (None, 13, 13, 2)   0           ['conv2d_60[0][0]']              \n",
      " )                                                                                                \n",
      "                                                                                                  \n",
      " max_pooling2d_61 (MaxPooling2D  (None, 14, 14, 4)   0           ['conv2d_61[0][0]']              \n",
      " )                                                                                                \n",
      "                                                                                                  \n",
      " max_pooling2d_62 (MaxPooling2D  (None, 14, 14, 8)   0           ['conv2d_62[0][0]']              \n",
      " )                                                                                                \n",
      "                                                                                                  \n",
      " max_pooling2d_63 (MaxPooling2D  (None, 15, 15, 16)  0           ['conv2d_63[0][0]']              \n",
      " )                                                                                                \n",
      "                                                                                                  \n",
      " max_pooling2d_64 (MaxPooling2D  (None, 15, 15, 32)  0           ['conv2d_64[0][0]']              \n",
      " )                                                                                                \n",
      "                                                                                                  \n",
      " conv2d_65 (Conv2D)             (None, 8, 8, 2)      146         ['max_pooling2d_60[0][0]']       \n",
      "                                                                                                  \n",
      " conv2d_66 (Conv2D)             (None, 9, 9, 4)      204         ['max_pooling2d_60[0][0]']       \n",
      "                                                                                                  \n",
      " conv2d_67 (Conv2D)             (None, 10, 10, 8)    264         ['max_pooling2d_60[0][0]']       \n",
      "                                                                                                  \n",
      " conv2d_68 (Conv2D)             (None, 11, 11, 16)   304         ['max_pooling2d_60[0][0]']       \n",
      "                                                                                                  \n",
      " conv2d_69 (Conv2D)             (None, 12, 12, 32)   288         ['max_pooling2d_60[0][0]']       \n",
      "                                                                                                  \n",
      " conv2d_70 (Conv2D)             (None, 9, 9, 2)      290         ['max_pooling2d_61[0][0]']       \n",
      "                                                                                                  \n",
      " conv2d_71 (Conv2D)             (None, 10, 10, 4)    404         ['max_pooling2d_61[0][0]']       \n",
      "                                                                                                  \n",
      " conv2d_72 (Conv2D)             (None, 11, 11, 8)    520         ['max_pooling2d_61[0][0]']       \n",
      "                                                                                                  \n",
      " conv2d_73 (Conv2D)             (None, 12, 12, 16)   592         ['max_pooling2d_61[0][0]']       \n",
      "                                                                                                  \n",
      " conv2d_74 (Conv2D)             (None, 13, 13, 32)   544         ['max_pooling2d_61[0][0]']       \n",
      "                                                                                                  \n",
      " conv2d_75 (Conv2D)             (None, 9, 9, 2)      578         ['max_pooling2d_62[0][0]']       \n",
      "                                                                                                  \n",
      " conv2d_76 (Conv2D)             (None, 10, 10, 4)    804         ['max_pooling2d_62[0][0]']       \n",
      "                                                                                                  \n",
      " conv2d_77 (Conv2D)             (None, 11, 11, 8)    1032        ['max_pooling2d_62[0][0]']       \n",
      "                                                                                                  \n",
      " conv2d_78 (Conv2D)             (None, 12, 12, 16)   1168        ['max_pooling2d_62[0][0]']       \n",
      "                                                                                                  \n",
      " conv2d_79 (Conv2D)             (None, 13, 13, 32)   1056        ['max_pooling2d_62[0][0]']       \n",
      "                                                                                                  \n",
      " conv2d_80 (Conv2D)             (None, 10, 10, 2)    1154        ['max_pooling2d_63[0][0]']       \n",
      "                                                                                                  \n",
      " conv2d_81 (Conv2D)             (None, 11, 11, 4)    1604        ['max_pooling2d_63[0][0]']       \n",
      "                                                                                                  \n",
      " conv2d_82 (Conv2D)             (None, 12, 12, 8)    2056        ['max_pooling2d_63[0][0]']       \n",
      "                                                                                                  \n",
      " conv2d_83 (Conv2D)             (None, 13, 13, 16)   2320        ['max_pooling2d_63[0][0]']       \n",
      "                                                                                                  \n",
      " conv2d_84 (Conv2D)             (None, 14, 14, 32)   2080        ['max_pooling2d_63[0][0]']       \n",
      "                                                                                                  \n",
      " conv2d_85 (Conv2D)             (None, 10, 10, 2)    2306        ['max_pooling2d_64[0][0]']       \n",
      "                                                                                                  \n",
      " conv2d_86 (Conv2D)             (None, 11, 11, 4)    3204        ['max_pooling2d_64[0][0]']       \n",
      "                                                                                                  \n",
      " conv2d_87 (Conv2D)             (None, 12, 12, 8)    4104        ['max_pooling2d_64[0][0]']       \n",
      "                                                                                                  \n",
      " conv2d_88 (Conv2D)             (None, 13, 13, 16)   4624        ['max_pooling2d_64[0][0]']       \n",
      "                                                                                                  \n",
      " conv2d_89 (Conv2D)             (None, 14, 14, 32)   4128        ['max_pooling2d_64[0][0]']       \n",
      "                                                                                                  \n",
      " max_pooling2d_65 (MaxPooling2D  (None, 4, 4, 2)     0           ['conv2d_65[0][0]']              \n",
      " )                                                                                                \n",
      "                                                                                                  \n"
     ]
    },
    {
     "name": "stdout",
     "output_type": "stream",
     "text": [
      " max_pooling2d_66 (MaxPooling2D  (None, 4, 4, 4)     0           ['conv2d_66[0][0]']              \n",
      " )                                                                                                \n",
      "                                                                                                  \n",
      " max_pooling2d_67 (MaxPooling2D  (None, 5, 5, 8)     0           ['conv2d_67[0][0]']              \n",
      " )                                                                                                \n",
      "                                                                                                  \n",
      " max_pooling2d_68 (MaxPooling2D  (None, 5, 5, 16)    0           ['conv2d_68[0][0]']              \n",
      " )                                                                                                \n",
      "                                                                                                  \n",
      " max_pooling2d_69 (MaxPooling2D  (None, 6, 6, 32)    0           ['conv2d_69[0][0]']              \n",
      " )                                                                                                \n",
      "                                                                                                  \n",
      " max_pooling2d_70 (MaxPooling2D  (None, 4, 4, 2)     0           ['conv2d_70[0][0]']              \n",
      " )                                                                                                \n",
      "                                                                                                  \n",
      " max_pooling2d_71 (MaxPooling2D  (None, 5, 5, 4)     0           ['conv2d_71[0][0]']              \n",
      " )                                                                                                \n",
      "                                                                                                  \n",
      " max_pooling2d_72 (MaxPooling2D  (None, 5, 5, 8)     0           ['conv2d_72[0][0]']              \n",
      " )                                                                                                \n",
      "                                                                                                  \n",
      " max_pooling2d_73 (MaxPooling2D  (None, 6, 6, 16)    0           ['conv2d_73[0][0]']              \n",
      " )                                                                                                \n",
      "                                                                                                  \n",
      " max_pooling2d_74 (MaxPooling2D  (None, 6, 6, 32)    0           ['conv2d_74[0][0]']              \n",
      " )                                                                                                \n",
      "                                                                                                  \n",
      " max_pooling2d_75 (MaxPooling2D  (None, 4, 4, 2)     0           ['conv2d_75[0][0]']              \n",
      " )                                                                                                \n",
      "                                                                                                  \n",
      " max_pooling2d_76 (MaxPooling2D  (None, 5, 5, 4)     0           ['conv2d_76[0][0]']              \n",
      " )                                                                                                \n",
      "                                                                                                  \n",
      " max_pooling2d_77 (MaxPooling2D  (None, 5, 5, 8)     0           ['conv2d_77[0][0]']              \n",
      " )                                                                                                \n",
      "                                                                                                  \n",
      " max_pooling2d_78 (MaxPooling2D  (None, 6, 6, 16)    0           ['conv2d_78[0][0]']              \n",
      " )                                                                                                \n",
      "                                                                                                  \n",
      " max_pooling2d_79 (MaxPooling2D  (None, 6, 6, 32)    0           ['conv2d_79[0][0]']              \n",
      " )                                                                                                \n",
      "                                                                                                  \n",
      " max_pooling2d_80 (MaxPooling2D  (None, 5, 5, 2)     0           ['conv2d_80[0][0]']              \n",
      " )                                                                                                \n",
      "                                                                                                  \n",
      " max_pooling2d_81 (MaxPooling2D  (None, 5, 5, 4)     0           ['conv2d_81[0][0]']              \n",
      " )                                                                                                \n",
      "                                                                                                  \n",
      " max_pooling2d_82 (MaxPooling2D  (None, 6, 6, 8)     0           ['conv2d_82[0][0]']              \n",
      " )                                                                                                \n",
      "                                                                                                  \n",
      " max_pooling2d_83 (MaxPooling2D  (None, 6, 6, 16)    0           ['conv2d_83[0][0]']              \n",
      " )                                                                                                \n",
      "                                                                                                  \n",
      " max_pooling2d_84 (MaxPooling2D  (None, 7, 7, 32)    0           ['conv2d_84[0][0]']              \n",
      " )                                                                                                \n",
      "                                                                                                  \n",
      " max_pooling2d_85 (MaxPooling2D  (None, 5, 5, 2)     0           ['conv2d_85[0][0]']              \n",
      " )                                                                                                \n",
      "                                                                                                  \n",
      " max_pooling2d_86 (MaxPooling2D  (None, 5, 5, 4)     0           ['conv2d_86[0][0]']              \n",
      " )                                                                                                \n",
      "                                                                                                  \n",
      " max_pooling2d_87 (MaxPooling2D  (None, 6, 6, 8)     0           ['conv2d_87[0][0]']              \n",
      " )                                                                                                \n",
      "                                                                                                  \n",
      " max_pooling2d_88 (MaxPooling2D  (None, 6, 6, 16)    0           ['conv2d_88[0][0]']              \n",
      " )                                                                                                \n",
      "                                                                                                  \n",
      " max_pooling2d_89 (MaxPooling2D  (None, 7, 7, 32)    0           ['conv2d_89[0][0]']              \n",
      " )                                                                                                \n",
      "                                                                                                  \n",
      " dense_67 (Dense)               (None, 4, 4, 20)     60          ['max_pooling2d_65[0][0]']       \n",
      "                                                                                                  \n",
      " dense_68 (Dense)               (None, 4, 4, 20)     100         ['max_pooling2d_66[0][0]']       \n",
      "                                                                                                  \n",
      " dense_69 (Dense)               (None, 5, 5, 20)     180         ['max_pooling2d_67[0][0]']       \n",
      "                                                                                                  \n",
      " dense_70 (Dense)               (None, 5, 5, 20)     340         ['max_pooling2d_68[0][0]']       \n",
      "                                                                                                  \n",
      " dense_71 (Dense)               (None, 6, 6, 20)     660         ['max_pooling2d_69[0][0]']       \n",
      "                                                                                                  \n",
      " dense_72 (Dense)               (None, 4, 4, 20)     60          ['max_pooling2d_70[0][0]']       \n"
     ]
    },
    {
     "name": "stdout",
     "output_type": "stream",
     "text": [
      "                                                                                                  \n",
      " dense_73 (Dense)               (None, 5, 5, 20)     100         ['max_pooling2d_71[0][0]']       \n",
      "                                                                                                  \n",
      " dense_74 (Dense)               (None, 5, 5, 20)     180         ['max_pooling2d_72[0][0]']       \n",
      "                                                                                                  \n",
      " dense_75 (Dense)               (None, 6, 6, 20)     340         ['max_pooling2d_73[0][0]']       \n",
      "                                                                                                  \n",
      " dense_76 (Dense)               (None, 6, 6, 20)     660         ['max_pooling2d_74[0][0]']       \n",
      "                                                                                                  \n",
      " dense_77 (Dense)               (None, 4, 4, 20)     60          ['max_pooling2d_75[0][0]']       \n",
      "                                                                                                  \n",
      " dense_78 (Dense)               (None, 5, 5, 20)     100         ['max_pooling2d_76[0][0]']       \n",
      "                                                                                                  \n",
      " dense_79 (Dense)               (None, 5, 5, 20)     180         ['max_pooling2d_77[0][0]']       \n",
      "                                                                                                  \n",
      " dense_80 (Dense)               (None, 6, 6, 20)     340         ['max_pooling2d_78[0][0]']       \n",
      "                                                                                                  \n",
      " dense_81 (Dense)               (None, 6, 6, 20)     660         ['max_pooling2d_79[0][0]']       \n",
      "                                                                                                  \n",
      " dense_82 (Dense)               (None, 5, 5, 20)     60          ['max_pooling2d_80[0][0]']       \n",
      "                                                                                                  \n",
      " dense_83 (Dense)               (None, 5, 5, 20)     100         ['max_pooling2d_81[0][0]']       \n",
      "                                                                                                  \n",
      " dense_84 (Dense)               (None, 6, 6, 20)     180         ['max_pooling2d_82[0][0]']       \n",
      "                                                                                                  \n",
      " dense_85 (Dense)               (None, 6, 6, 20)     340         ['max_pooling2d_83[0][0]']       \n",
      "                                                                                                  \n",
      " dense_86 (Dense)               (None, 7, 7, 20)     660         ['max_pooling2d_84[0][0]']       \n",
      "                                                                                                  \n",
      " dense_87 (Dense)               (None, 5, 5, 20)     60          ['max_pooling2d_85[0][0]']       \n",
      "                                                                                                  \n",
      " dense_88 (Dense)               (None, 5, 5, 20)     100         ['max_pooling2d_86[0][0]']       \n",
      "                                                                                                  \n",
      " dense_89 (Dense)               (None, 6, 6, 20)     180         ['max_pooling2d_87[0][0]']       \n",
      "                                                                                                  \n",
      " dense_90 (Dense)               (None, 6, 6, 20)     340         ['max_pooling2d_88[0][0]']       \n",
      "                                                                                                  \n",
      " dense_91 (Dense)               (None, 7, 7, 20)     660         ['max_pooling2d_89[0][0]']       \n",
      "                                                                                                  \n",
      " flatten_65 (Flatten)           (None, 320)          0           ['dense_67[0][0]']               \n",
      "                                                                                                  \n",
      " flatten_66 (Flatten)           (None, 320)          0           ['dense_68[0][0]']               \n",
      "                                                                                                  \n",
      " flatten_67 (Flatten)           (None, 500)          0           ['dense_69[0][0]']               \n",
      "                                                                                                  \n",
      " flatten_68 (Flatten)           (None, 500)          0           ['dense_70[0][0]']               \n",
      "                                                                                                  \n",
      " flatten_69 (Flatten)           (None, 720)          0           ['dense_71[0][0]']               \n",
      "                                                                                                  \n",
      " flatten_70 (Flatten)           (None, 320)          0           ['dense_72[0][0]']               \n",
      "                                                                                                  \n",
      " flatten_71 (Flatten)           (None, 500)          0           ['dense_73[0][0]']               \n",
      "                                                                                                  \n",
      " flatten_72 (Flatten)           (None, 500)          0           ['dense_74[0][0]']               \n",
      "                                                                                                  \n",
      " flatten_73 (Flatten)           (None, 720)          0           ['dense_75[0][0]']               \n",
      "                                                                                                  \n",
      " flatten_74 (Flatten)           (None, 720)          0           ['dense_76[0][0]']               \n",
      "                                                                                                  \n",
      " flatten_75 (Flatten)           (None, 320)          0           ['dense_77[0][0]']               \n",
      "                                                                                                  \n",
      " flatten_76 (Flatten)           (None, 500)          0           ['dense_78[0][0]']               \n",
      "                                                                                                  \n",
      " flatten_77 (Flatten)           (None, 500)          0           ['dense_79[0][0]']               \n",
      "                                                                                                  \n",
      " flatten_78 (Flatten)           (None, 720)          0           ['dense_80[0][0]']               \n",
      "                                                                                                  \n",
      " flatten_79 (Flatten)           (None, 720)          0           ['dense_81[0][0]']               \n",
      "                                                                                                  \n",
      " flatten_80 (Flatten)           (None, 500)          0           ['dense_82[0][0]']               \n",
      "                                                                                                  \n",
      " flatten_81 (Flatten)           (None, 500)          0           ['dense_83[0][0]']               \n",
      "                                                                                                  \n",
      " flatten_82 (Flatten)           (None, 720)          0           ['dense_84[0][0]']               \n",
      "                                                                                                  \n",
      " flatten_83 (Flatten)           (None, 720)          0           ['dense_85[0][0]']               \n",
      "                                                                                                  \n",
      " flatten_84 (Flatten)           (None, 980)          0           ['dense_86[0][0]']               \n",
      "                                                                                                  \n",
      " flatten_85 (Flatten)           (None, 500)          0           ['dense_87[0][0]']               \n",
      "                                                                                                  \n",
      " flatten_86 (Flatten)           (None, 500)          0           ['dense_88[0][0]']               \n",
      "                                                                                                  \n"
     ]
    },
    {
     "name": "stdout",
     "output_type": "stream",
     "text": [
      " flatten_87 (Flatten)           (None, 720)          0           ['dense_89[0][0]']               \n",
      "                                                                                                  \n",
      " flatten_88 (Flatten)           (None, 720)          0           ['dense_90[0][0]']               \n",
      "                                                                                                  \n",
      " flatten_89 (Flatten)           (None, 980)          0           ['dense_91[0][0]']               \n",
      "                                                                                                  \n",
      " concatenate_15 (Concatenate)   (None, 2360)         0           ['flatten_65[0][0]',             \n",
      "                                                                  'flatten_66[0][0]',             \n",
      "                                                                  'flatten_67[0][0]',             \n",
      "                                                                  'flatten_68[0][0]',             \n",
      "                                                                  'flatten_69[0][0]']             \n",
      "                                                                                                  \n",
      " concatenate_16 (Concatenate)   (None, 2760)         0           ['flatten_70[0][0]',             \n",
      "                                                                  'flatten_71[0][0]',             \n",
      "                                                                  'flatten_72[0][0]',             \n",
      "                                                                  'flatten_73[0][0]',             \n",
      "                                                                  'flatten_74[0][0]']             \n",
      "                                                                                                  \n",
      " concatenate_17 (Concatenate)   (None, 2760)         0           ['flatten_75[0][0]',             \n",
      "                                                                  'flatten_76[0][0]',             \n",
      "                                                                  'flatten_77[0][0]',             \n",
      "                                                                  'flatten_78[0][0]',             \n",
      "                                                                  'flatten_79[0][0]']             \n",
      "                                                                                                  \n",
      " concatenate_18 (Concatenate)   (None, 3420)         0           ['flatten_80[0][0]',             \n",
      "                                                                  'flatten_81[0][0]',             \n",
      "                                                                  'flatten_82[0][0]',             \n",
      "                                                                  'flatten_83[0][0]',             \n",
      "                                                                  'flatten_84[0][0]']             \n",
      "                                                                                                  \n",
      " concatenate_19 (Concatenate)   (None, 3420)         0           ['flatten_85[0][0]',             \n",
      "                                                                  'flatten_86[0][0]',             \n",
      "                                                                  'flatten_87[0][0]',             \n",
      "                                                                  'flatten_88[0][0]',             \n",
      "                                                                  'flatten_89[0][0]']             \n",
      "                                                                                                  \n",
      " concatenate_20 (Concatenate)   (None, 14720)        0           ['concatenate_15[0][0]',         \n",
      "                                                                  'concatenate_16[0][0]',         \n",
      "                                                                  'concatenate_17[0][0]',         \n",
      "                                                                  'concatenate_18[0][0]',         \n",
      "                                                                  'concatenate_19[0][0]']         \n",
      "                                                                                                  \n",
      " dense_61 (Dense)               (None, 10)           147210      ['concatenate_20[0][0]']         \n",
      "                                                                                                  \n",
      "==================================================================================================\n",
      "Total params: 191,462\n",
      "Trainable params: 191,462\n",
      "Non-trainable params: 0\n",
      "__________________________________________________________________________________________________\n"
     ]
    }
   ],
   "source": [
    "inps = keras.Input(shape=imgs.shape[1:])\n",
    "\n",
    "interl = lambda: layers.Dense(20, activation=\"relu\")\n",
    "\n",
    "summary = layers.Dense(10, activation=\"softmax\")\n",
    "def pmid(inp,dropout=None):\n",
    "    sqsz = 7\n",
    "    \n",
    "    convs = [layers.MaxPooling2D((2,2),(2,2))(layers.Conv2D(2**i, (sqsz-i,sqsz-i), activation=\"relu\")(inp)) for i in range(1,sqsz-1)]\n",
    "    inter = [layers.Flatten()(interl()(c)) for c in convs]\n",
    "    \n",
    "    if dropout is not None:\n",
    "        return layers.Dropout(dropout)(layers.Concatenate()(inter)), convs\n",
    "    return layers.Concatenate()(inter), convs\n",
    "\n",
    "\n",
    "inter1, pmid1 = pmid(inps)\n",
    "secondarys = [pmid(pm) for pm in pmid1]\n",
    "inter2 = layers.Concatenate()([s[0] for s in secondarys])\n",
    "inter4, pmid4 = pmid(inps,dropout=0.4)\n",
    "secondarys4 = [pmid(pm,dropout=0.4) for pm in pmid1]\n",
    "inter5 = layers.BatchNormalization()(layers.Concatenate()([s[0] for s in secondarys4]))\n",
    "model = keras.Model(inps, summary(inter2), name=\"cifar10cnn\")\n",
    "model_dropout = keras.Model(inps, summary(inter5))\n",
    "model.summary()\n",
    "model.compile(optimizer='adam',loss=tf.keras.losses.SparseCategoricalCrossentropy(), metrics=['accuracy'])\n",
    "model_dropout.compile(optimizer='adam',loss=tf.keras.losses.SparseCategoricalCrossentropy(), metrics=['accuracy'])"
   ]
  },
  {
   "cell_type": "code",
   "execution_count": null,
   "id": "91326f24",
   "metadata": {},
   "outputs": [],
   "source": [
    "model_dropout.summary()"
   ]
  },
  {
   "cell_type": "code",
   "execution_count": 4,
   "id": "3e2efb36",
   "metadata": {
    "scrolled": true
   },
   "outputs": [
    {
     "name": "stdout",
     "output_type": "stream",
     "text": [
      "Epoch 1/10\n"
     ]
    },
    {
     "name": "stderr",
     "output_type": "stream",
     "text": [
      "2022-11-11 23:17:39.661505: W tensorflow/core/platform/profile_utils/cpu_utils.cc:128] Failed to get CPU frequency: 0 Hz\n",
      "2022-11-11 23:17:41.274572: I tensorflow/core/grappler/optimizers/custom_graph_optimizer_registry.cc:114] Plugin optimizer for device_type GPU is enabled.\n"
     ]
    },
    {
     "name": "stdout",
     "output_type": "stream",
     "text": [
      "1563/1563 [==============================] - ETA: 0s - loss: 1.2998 - accuracy: 0.5419"
     ]
    },
    {
     "name": "stderr",
     "output_type": "stream",
     "text": [
      "2022-11-11 23:18:52.678635: I tensorflow/core/grappler/optimizers/custom_graph_optimizer_registry.cc:114] Plugin optimizer for device_type GPU is enabled.\n"
     ]
    },
    {
     "name": "stdout",
     "output_type": "stream",
     "text": [
      "1563/1563 [==============================] - 80s 49ms/step - loss: 1.2998 - accuracy: 0.5419 - val_loss: 1.0656 - val_accuracy: 0.6268\n",
      "Epoch 2/10\n",
      "1563/1563 [==============================] - 74s 47ms/step - loss: 0.9693 - accuracy: 0.6657 - val_loss: 0.9331 - val_accuracy: 0.6733\n",
      "Epoch 3/10\n",
      "1563/1563 [==============================] - 77s 49ms/step - loss: 0.8447 - accuracy: 0.7087 - val_loss: 0.9307 - val_accuracy: 0.6790\n",
      "Epoch 4/10\n",
      "1563/1563 [==============================] - 73s 47ms/step - loss: 0.7535 - accuracy: 0.7424 - val_loss: 0.8687 - val_accuracy: 0.7053\n",
      "Epoch 5/10\n",
      "1563/1563 [==============================] - 73s 47ms/step - loss: 0.6766 - accuracy: 0.7673 - val_loss: 0.8753 - val_accuracy: 0.7025\n",
      "Epoch 6/10\n",
      "1563/1563 [==============================] - 73s 47ms/step - loss: 0.6025 - accuracy: 0.7920 - val_loss: 0.9080 - val_accuracy: 0.6998\n",
      "Epoch 7/10\n",
      "1563/1563 [==============================] - 73s 47ms/step - loss: 0.5352 - accuracy: 0.8148 - val_loss: 0.9143 - val_accuracy: 0.7065\n",
      "Epoch 8/10\n",
      "1563/1563 [==============================] - 73s 46ms/step - loss: 0.4754 - accuracy: 0.8343 - val_loss: 1.0341 - val_accuracy: 0.6831\n",
      "Epoch 9/10\n",
      "1563/1563 [==============================] - 73s 46ms/step - loss: 0.4199 - accuracy: 0.8544 - val_loss: 0.9841 - val_accuracy: 0.7076\n",
      "Epoch 10/10\n",
      "1563/1563 [==============================] - 73s 46ms/step - loss: 0.3740 - accuracy: 0.8701 - val_loss: 1.0282 - val_accuracy: 0.7045\n"
     ]
    }
   ],
   "source": [
    "CNN_trained = model.fit(imgs,lbls,epochs=10,validation_data=(tst_imgs,tst_lbls))"
   ]
  },
  {
   "cell_type": "code",
   "execution_count": 5,
   "id": "39b1095c",
   "metadata": {},
   "outputs": [
    {
     "name": "stdout",
     "output_type": "stream",
     "text": [
      "[0.5419000387191772, 0.6656800508499146, 0.7086600661277771, 0.742400050163269, 0.7672800421714783, 0.7919800281524658, 0.8147600293159485, 0.8342600464820862, 0.854360044002533, 0.8700800538063049]\n"
     ]
    }
   ],
   "source": [
    "print(CNN_trained.history['accuracy'])"
   ]
  },
  {
   "cell_type": "code",
   "execution_count": 6,
   "id": "465f5046",
   "metadata": {},
   "outputs": [
    {
     "name": "stdout",
     "output_type": "stream",
     "text": [
      "313/313 [==============================] - 6s 20ms/step - loss: 1.0282 - accuracy: 0.7045\n",
      "0.7045000195503235\n"
     ]
    }
   ],
   "source": [
    "(loss, acc) = model.evaluate(tst_imgs, tst_lbls)\n",
    "print(acc)"
   ]
  },
  {
   "cell_type": "code",
   "execution_count": 7,
   "id": "1b1b1107",
   "metadata": {},
   "outputs": [
    {
     "name": "stderr",
     "output_type": "stream",
     "text": [
      "2022-11-11 23:30:07.597801: I tensorflow/core/grappler/optimizers/custom_graph_optimizer_registry.cc:114] Plugin optimizer for device_type GPU is enabled.\n"
     ]
    },
    {
     "name": "stdout",
     "output_type": "stream",
     "text": [
      "313/313 [==============================] - 7s 20ms/step\n"
     ]
    }
   ],
   "source": [
    "predictions = model.predict(tst_imgs)"
   ]
  },
  {
   "cell_type": "code",
   "execution_count": 8,
   "id": "3ac939ea",
   "metadata": {},
   "outputs": [],
   "source": [
    "wrongs = [(np.round(pred), tst_imgs[ix], tst_lbls[ix],ix) for ix, pred in enumerate(predictions)]"
   ]
  },
  {
   "cell_type": "code",
   "execution_count": 9,
   "id": "681e22f3",
   "metadata": {},
   "outputs": [],
   "source": [
    "def augment(img):\n",
    "    def flipped(i):\n",
    "        return [np.rot90(i, k=j) for j in range(4)]\n",
    "    return flipped(color.rgb2gray(img))"
   ]
  },
  {
   "cell_type": "code",
   "execution_count": null,
   "id": "4176f9eb",
   "metadata": {},
   "outputs": [],
   "source": [
    "new_imgs, new_lbls = [], []\n",
    "for ix,img in enumerate(imgs):\n",
    "    this_augs = augment(img)\n",
    "    new_imgs.append(this_augs[-1])\n",
    "    new_imgs.append(img)\n",
    "    new_lbls.append(lbls[ix])\n",
    "    new_lbls.append(lbls[ix])\n",
    "\n",
    "import random    \n",
    "plt.figure(figsize=(4,4))\n",
    "i=1\n",
    "for img in random.sample(list(imgs), k=2):\n",
    "    plt.subplot(4,4,i)\n",
    "    i+=1\n",
    "    plt.grid(False)\n",
    "    plt.imshow(img)\n",
    "    for a in augment(img):\n",
    "        plt.subplot(4,4,i)\n",
    "        i+=1\n",
    "        plt.grid(False)\n",
    "        plt.imshow(a)"
   ]
  },
  {
   "cell_type": "code",
   "execution_count": null,
   "id": "d6ec6d30",
   "metadata": {},
   "outputs": [],
   "source": []
  },
  {
   "cell_type": "code",
   "execution_count": null,
   "id": "28040bb1",
   "metadata": {},
   "outputs": [],
   "source": []
  },
  {
   "cell_type": "code",
   "execution_count": null,
   "id": "ab12a2f0",
   "metadata": {},
   "outputs": [],
   "source": [
    "print('hi')\n",
    "CNN_trained2 = model.fit(new_imgs,new_lbls,epochs=10,validation_data=(tst_imgs,tst_lbls))\n",
    "\n",
    "CNN_trained3 = model_dropout.fit(new_imgs,new_lbls,epochs=10,validation_data=(tst_imgs,tst_lbls))"
   ]
  },
  {
   "cell_type": "markdown",
   "id": "e82bbcf2",
   "metadata": {},
   "source": [
    "The network did not end up performing any better on the validation set after doing a dropout. Kinda confusing to me. But my accuracy was never very good, at 67%."
   ]
  },
  {
   "cell_type": "code",
   "execution_count": null,
   "id": "ec9fac97",
   "metadata": {},
   "outputs": [],
   "source": []
  }
 ],
 "metadata": {
  "kernelspec": {
   "display_name": "Python 3 (ipykernel)",
   "language": "python",
   "name": "python3"
  },
  "language_info": {
   "codemirror_mode": {
    "name": "ipython",
    "version": 3
   },
   "file_extension": ".py",
   "mimetype": "text/x-python",
   "name": "python",
   "nbconvert_exporter": "python",
   "pygments_lexer": "ipython3",
   "version": "3.10.8"
  }
 },
 "nbformat": 4,
 "nbformat_minor": 5
}
