{
 "cells": [
  {
   "cell_type": "markdown",
   "metadata": {},
   "source": []
  },
  {
   "cell_type": "code",
   "execution_count": 14,
   "metadata": {
    "colab": {
     "base_uri": "https://localhost:8080/"
    },
    "executionInfo": {
     "elapsed": 3133,
     "status": "ok",
     "timestamp": 1670274700839,
     "user": {
      "displayName": "Ember Richardson",
      "userId": "05921004582757010193"
     },
     "user_tz": 300
    },
    "id": "ie76vEKeBDAv",
    "outputId": "fc494b1a-0a09-4678-c862-cbda099ec881"
   },
   "outputs": [],
   "source": [
    "# imports\n",
    "import typing\n",
    "import os\n",
    "import math\n",
    "import sys\n",
    "import tensorflow as tf\n",
    "from tensorflow import keras\n",
    "import numpy as np\n",
    "from numpy import genfromtxt\n",
    "from numpy.lib import recfunctions as rfn\n",
    "import pandas as pd\n",
    "import sklearn\n",
    "from sklearn.preprocessing import MinMaxScaler\n",
    "from IPython.display import display, Math, Latex\n",
    "import matplotlib as mpl\n",
    "import matplotlib.pyplot as plt\n",
    "import seaborn as sns\n"
   ]
  },
  {
   "cell_type": "code",
   "execution_count": 15,
   "metadata": {},
   "outputs": [],
   "source": [
    "# colab config\n",
    "#from google.colab import drive\n",
    "#drive.mount('/content/drive')\n",
    "#os.chdir('/content/drive/My Drive/cs470')"
   ]
  },
  {
   "attachments": {},
   "cell_type": "markdown",
   "metadata": {},
   "source": [
    "# Data Preprocessing\n",
    "\n",
    "## Data Loading\n",
    "\n",
    "The dataset was downloaded from Kaggle. It contains 32 Columns of 1,000,000 entries. Since it is 216.59 MB, it may take time to load.\n",
    "\n",
    "_in this project, \"label\" will refer to column categories, and \"data_actual\" will refer to the actual value of the data_"
   ]
  },
  {
   "cell_type": "code",
   "execution_count": 16,
   "metadata": {},
   "outputs": [],
   "source": [
    "data = pd.read_csv(\"Base.csv\") # load csv from drive\n",
    "classification = data.pop(\"fraud_bool\") # remove classification label from dataset\n",
    "labels = data.keys() # get column labels"
   ]
  },
  {
   "cell_type": "markdown",
   "metadata": {},
   "source": [
    "# Data Analysis\n",
    "## Balance check\n",
    "Our dataset is extremely imbalanced. This is due to the fact that fraudulence overwhelmingly rare in the dataset."
   ]
  },
  {
   "cell_type": "code",
   "execution_count": 17,
   "metadata": {},
   "outputs": [
    {
     "data": {
      "text/latex": [
       "In the complete data set, 11029 are fraud (1.103%)"
      ],
      "text/plain": [
       "<IPython.core.display.Latex object>"
      ]
     },
     "execution_count": 17,
     "metadata": {},
     "output_type": "execute_result"
    }
   ],
   "source": [
    "Latex(f'In the complete data set, {classification.sum()} are fraud ({100*classification.sum()/len(classification):.3f}%)')"
   ]
  },
  {
   "attachments": {},
   "cell_type": "markdown",
   "metadata": {},
   "source": [
    "# One-hot vectorization\n",
    "\n",
    "Machine learning algorithms have a hard time understanding strings. To confront this, we replace a column of multiple unique string values with multiple columns for each unique category. These columns contain a boolean to indicate which category it was. This is alternatively known as a _One-hot_."
   ]
  },
  {
   "cell_type": "code",
   "execution_count": 18,
   "metadata": {},
   "outputs": [],
   "source": [
    "# one-hotify labels\n",
    "labels_categorical = [\"payment_type\", \"employment_status\", \"housing_status\", \"source\", \"device_os\"] # list that contains columns to be binarized\n",
    "labels_vectorized = [] # list that contains all newly created binarized columns\n",
    "for label in labels_categorical:\n",
    "    label_index = data.columns.get_loc(label)\n",
    "    column_binarized = pd.get_dummies(data[label])\n",
    "    for label_binarized in column_binarized:\n",
    "        # new label joins the category with the original column name\n",
    "        label_binarized_new = label + \"_\" + label_binarized\n",
    "        data.insert(\n",
    "            label_index,\n",
    "            label_binarized_new,\n",
    "            column_binarized[label_binarized])\n",
    "        labels_vectorized.append(label_binarized_new)\n",
    "    del data[label]\n",
    "# prove that removal occurred and that new columns were added\n",
    "assert(\"payment_type\" not in data.columns and \"device_os\" not in data.columns and \"device_os_windows\" in data.columns)"
   ]
  },
  {
   "attachments": {},
   "cell_type": "markdown",
   "metadata": {},
   "source": [
    "# Minimum-Maximum Normalization\n",
    "\n",
    "The backpropagation algorithm will eventually attempt to normalize the range of values within a column to become from 0 to 1. We can save time by preprocessing the data beforehand, shaving seconds if not minutes off of training."
   ]
  },
  {
   "cell_type": "code",
   "execution_count": 19,
   "metadata": {},
   "outputs": [],
   "source": [
    "# minimum-maximum normalization\n",
    "for label in labels:\n",
    "    if label not in labels_categorical: # check only the ones that were not categorical (this implies columns of numbers, not strings)\n",
    "        scaler = MinMaxScaler() # scales data between 0 and 1\n",
    "        data[label] = scaler.fit_transform(data[[label]])"
   ]
  },
  {
   "attachments": {},
   "cell_type": "markdown",
   "metadata": {},
   "source": [
    "# Data Partitioning\n",
    "\n",
    "Finally, the data will be partitioned into both training and evaluation subsets."
   ]
  },
  {
   "cell_type": "code",
   "execution_count": 20,
   "metadata": {},
   "outputs": [
    {
     "name": "stdout",
     "output_type": "stream",
     "text": [
      "Training data: 850000\n"
     ]
    },
    {
     "data": {
      "text/html": [
       "<div>\n",
       "<style scoped>\n",
       "    .dataframe tbody tr th:only-of-type {\n",
       "        vertical-align: middle;\n",
       "    }\n",
       "\n",
       "    .dataframe tbody tr th {\n",
       "        vertical-align: top;\n",
       "    }\n",
       "\n",
       "    .dataframe thead th {\n",
       "        text-align: right;\n",
       "    }\n",
       "</style>\n",
       "<table border=\"1\" class=\"dataframe\">\n",
       "  <thead>\n",
       "    <tr style=\"text-align: right;\">\n",
       "      <th></th>\n",
       "      <th>income</th>\n",
       "      <th>name_email_similarity</th>\n",
       "      <th>prev_address_months_count</th>\n",
       "      <th>current_address_months_count</th>\n",
       "      <th>customer_age</th>\n",
       "      <th>days_since_request</th>\n",
       "      <th>intended_balcon_amount</th>\n",
       "      <th>payment_type_AE</th>\n",
       "      <th>payment_type_AD</th>\n",
       "      <th>payment_type_AC</th>\n",
       "      <th>...</th>\n",
       "      <th>session_length_in_minutes</th>\n",
       "      <th>device_os_x11</th>\n",
       "      <th>device_os_windows</th>\n",
       "      <th>device_os_other</th>\n",
       "      <th>device_os_macintosh</th>\n",
       "      <th>device_os_linux</th>\n",
       "      <th>keep_alive_session</th>\n",
       "      <th>device_distinct_emails_8w</th>\n",
       "      <th>device_fraud_count</th>\n",
       "      <th>month</th>\n",
       "    </tr>\n",
       "  </thead>\n",
       "  <tbody>\n",
       "    <tr>\n",
       "      <th>3</th>\n",
       "      <td>1.00</td>\n",
       "      <td>0.159510</td>\n",
       "      <td>0.0</td>\n",
       "      <td>0.053613</td>\n",
       "      <td>0.500</td>\n",
       "      <td>0.000243</td>\n",
       "      <td>0.111493</td>\n",
       "      <td>0</td>\n",
       "      <td>0</td>\n",
       "      <td>0</td>\n",
       "      <td>...</td>\n",
       "      <td>0.035074</td>\n",
       "      <td>0</td>\n",
       "      <td>0</td>\n",
       "      <td>0</td>\n",
       "      <td>0</td>\n",
       "      <td>1</td>\n",
       "      <td>0.0</td>\n",
       "      <td>0.666667</td>\n",
       "      <td>0.0</td>\n",
       "      <td>1.0</td>\n",
       "    </tr>\n",
       "    <tr>\n",
       "      <th>4</th>\n",
       "      <td>1.00</td>\n",
       "      <td>0.596414</td>\n",
       "      <td>0.0</td>\n",
       "      <td>0.510490</td>\n",
       "      <td>0.500</td>\n",
       "      <td>0.000057</td>\n",
       "      <td>0.114854</td>\n",
       "      <td>0</td>\n",
       "      <td>0</td>\n",
       "      <td>0</td>\n",
       "      <td>...</td>\n",
       "      <td>0.054951</td>\n",
       "      <td>0</td>\n",
       "      <td>0</td>\n",
       "      <td>0</td>\n",
       "      <td>1</td>\n",
       "      <td>0</td>\n",
       "      <td>1.0</td>\n",
       "      <td>0.666667</td>\n",
       "      <td>0.0</td>\n",
       "      <td>1.0</td>\n",
       "    </tr>\n",
       "    <tr>\n",
       "      <th>5</th>\n",
       "      <td>0.25</td>\n",
       "      <td>0.143920</td>\n",
       "      <td>0.0</td>\n",
       "      <td>0.072261</td>\n",
       "      <td>0.250</td>\n",
       "      <td>0.000360</td>\n",
       "      <td>0.115048</td>\n",
       "      <td>0</td>\n",
       "      <td>1</td>\n",
       "      <td>0</td>\n",
       "      <td>...</td>\n",
       "      <td>0.066917</td>\n",
       "      <td>0</td>\n",
       "      <td>1</td>\n",
       "      <td>0</td>\n",
       "      <td>0</td>\n",
       "      <td>0</td>\n",
       "      <td>0.0</td>\n",
       "      <td>0.666667</td>\n",
       "      <td>0.0</td>\n",
       "      <td>1.0</td>\n",
       "    </tr>\n",
       "    <tr>\n",
       "      <th>6</th>\n",
       "      <td>0.75</td>\n",
       "      <td>0.321554</td>\n",
       "      <td>0.0</td>\n",
       "      <td>0.356643</td>\n",
       "      <td>0.250</td>\n",
       "      <td>0.000391</td>\n",
       "      <td>0.118701</td>\n",
       "      <td>0</td>\n",
       "      <td>0</td>\n",
       "      <td>0</td>\n",
       "      <td>...</td>\n",
       "      <td>0.029448</td>\n",
       "      <td>0</td>\n",
       "      <td>1</td>\n",
       "      <td>0</td>\n",
       "      <td>0</td>\n",
       "      <td>0</td>\n",
       "      <td>1.0</td>\n",
       "      <td>0.666667</td>\n",
       "      <td>0.0</td>\n",
       "      <td>1.0</td>\n",
       "    </tr>\n",
       "    <tr>\n",
       "      <th>7</th>\n",
       "      <td>1.00</td>\n",
       "      <td>0.064816</td>\n",
       "      <td>0.0</td>\n",
       "      <td>0.044289</td>\n",
       "      <td>0.500</td>\n",
       "      <td>0.000440</td>\n",
       "      <td>0.111021</td>\n",
       "      <td>0</td>\n",
       "      <td>0</td>\n",
       "      <td>0</td>\n",
       "      <td>...</td>\n",
       "      <td>0.041859</td>\n",
       "      <td>0</td>\n",
       "      <td>0</td>\n",
       "      <td>0</td>\n",
       "      <td>0</td>\n",
       "      <td>1</td>\n",
       "      <td>0.0</td>\n",
       "      <td>0.666667</td>\n",
       "      <td>0.0</td>\n",
       "      <td>1.0</td>\n",
       "    </tr>\n",
       "    <tr>\n",
       "      <th>8</th>\n",
       "      <td>0.75</td>\n",
       "      <td>0.065937</td>\n",
       "      <td>0.0</td>\n",
       "      <td>0.151515</td>\n",
       "      <td>0.375</td>\n",
       "      <td>0.000264</td>\n",
       "      <td>0.109649</td>\n",
       "      <td>0</td>\n",
       "      <td>0</td>\n",
       "      <td>0</td>\n",
       "      <td>...</td>\n",
       "      <td>0.036541</td>\n",
       "      <td>0</td>\n",
       "      <td>1</td>\n",
       "      <td>0</td>\n",
       "      <td>0</td>\n",
       "      <td>0</td>\n",
       "      <td>1.0</td>\n",
       "      <td>0.666667</td>\n",
       "      <td>0.0</td>\n",
       "      <td>1.0</td>\n",
       "    </tr>\n",
       "    <tr>\n",
       "      <th>9</th>\n",
       "      <td>1.00</td>\n",
       "      <td>0.700096</td>\n",
       "      <td>0.0</td>\n",
       "      <td>0.142191</td>\n",
       "      <td>0.375</td>\n",
       "      <td>0.000214</td>\n",
       "      <td>0.112542</td>\n",
       "      <td>0</td>\n",
       "      <td>0</td>\n",
       "      <td>0</td>\n",
       "      <td>...</td>\n",
       "      <td>0.288158</td>\n",
       "      <td>0</td>\n",
       "      <td>1</td>\n",
       "      <td>0</td>\n",
       "      <td>0</td>\n",
       "      <td>0</td>\n",
       "      <td>0.0</td>\n",
       "      <td>0.666667</td>\n",
       "      <td>0.0</td>\n",
       "      <td>1.0</td>\n",
       "    </tr>\n",
       "  </tbody>\n",
       "</table>\n",
       "<p>7 rows × 52 columns</p>\n",
       "</div>"
      ],
      "text/plain": [
       "   income  name_email_similarity  prev_address_months_count  \\\n",
       "3    1.00               0.159510                        0.0   \n",
       "4    1.00               0.596414                        0.0   \n",
       "5    0.25               0.143920                        0.0   \n",
       "6    0.75               0.321554                        0.0   \n",
       "7    1.00               0.064816                        0.0   \n",
       "8    0.75               0.065937                        0.0   \n",
       "9    1.00               0.700096                        0.0   \n",
       "\n",
       "   current_address_months_count  customer_age  days_since_request  \\\n",
       "3                      0.053613         0.500            0.000243   \n",
       "4                      0.510490         0.500            0.000057   \n",
       "5                      0.072261         0.250            0.000360   \n",
       "6                      0.356643         0.250            0.000391   \n",
       "7                      0.044289         0.500            0.000440   \n",
       "8                      0.151515         0.375            0.000264   \n",
       "9                      0.142191         0.375            0.000214   \n",
       "\n",
       "   intended_balcon_amount  payment_type_AE  payment_type_AD  payment_type_AC  \\\n",
       "3                0.111493                0                0                0   \n",
       "4                0.114854                0                0                0   \n",
       "5                0.115048                0                1                0   \n",
       "6                0.118701                0                0                0   \n",
       "7                0.111021                0                0                0   \n",
       "8                0.109649                0                0                0   \n",
       "9                0.112542                0                0                0   \n",
       "\n",
       "   ...  session_length_in_minutes  device_os_x11  device_os_windows  \\\n",
       "3  ...                   0.035074              0                  0   \n",
       "4  ...                   0.054951              0                  0   \n",
       "5  ...                   0.066917              0                  1   \n",
       "6  ...                   0.029448              0                  1   \n",
       "7  ...                   0.041859              0                  0   \n",
       "8  ...                   0.036541              0                  1   \n",
       "9  ...                   0.288158              0                  1   \n",
       "\n",
       "   device_os_other  device_os_macintosh  device_os_linux  keep_alive_session  \\\n",
       "3                0                    0                1                 0.0   \n",
       "4                0                    1                0                 1.0   \n",
       "5                0                    0                0                 0.0   \n",
       "6                0                    0                0                 1.0   \n",
       "7                0                    0                1                 0.0   \n",
       "8                0                    0                0                 1.0   \n",
       "9                0                    0                0                 0.0   \n",
       "\n",
       "   device_distinct_emails_8w  device_fraud_count  month  \n",
       "3                   0.666667                 0.0    1.0  \n",
       "4                   0.666667                 0.0    1.0  \n",
       "5                   0.666667                 0.0    1.0  \n",
       "6                   0.666667                 0.0    1.0  \n",
       "7                   0.666667                 0.0    1.0  \n",
       "8                   0.666667                 0.0    1.0  \n",
       "9                   0.666667                 0.0    1.0  \n",
       "\n",
       "[7 rows x 52 columns]"
      ]
     },
     "metadata": {},
     "output_type": "display_data"
    },
    {
     "name": "stdout",
     "output_type": "stream",
     "text": [
      "income                              1.000000\n",
      "name_email_similarity               0.159510\n",
      "prev_address_months_count           0.000000\n",
      "current_address_months_count        0.053613\n",
      "customer_age                        0.500000\n",
      "days_since_request                  0.000243\n",
      "intended_balcon_amount              0.111493\n",
      "payment_type_AE                     0.000000\n",
      "payment_type_AD                     0.000000\n",
      "payment_type_AC                     0.000000\n",
      "payment_type_AB                     1.000000\n",
      "payment_type_AA                     0.000000\n",
      "zip_count_4w                        0.120764\n",
      "velocity_6h                         0.214831\n",
      "velocity_24h                        0.335657\n",
      "velocity_4w                         0.047137\n",
      "bank_branch_count_8w                0.805451\n",
      "date_of_birth_distinct_emails_4w    0.153846\n",
      "employment_status_CG                0.000000\n",
      "employment_status_CF                0.000000\n",
      "employment_status_CE                0.000000\n",
      "employment_status_CD                0.000000\n",
      "employment_status_CC                0.000000\n",
      "employment_status_CB                0.000000\n",
      "employment_status_CA                1.000000\n",
      "credit_risk_score                   0.500894\n",
      "email_is_free                       1.000000\n",
      "housing_status_BG                   0.000000\n",
      "housing_status_BF                   0.000000\n",
      "housing_status_BE                   0.000000\n",
      "housing_status_BD                   0.000000\n",
      "housing_status_BC                   0.000000\n",
      "housing_status_BB                   0.000000\n",
      "housing_status_BA                   1.000000\n",
      "phone_home_valid                    0.000000\n",
      "phone_mobile_valid                  1.000000\n",
      "bank_months_count                   0.969697\n",
      "has_other_cards                     1.000000\n",
      "proposed_credit_limit               0.005236\n",
      "foreign_request                     0.000000\n",
      "source_TELEAPP                      0.000000\n",
      "source_INTERNET                     1.000000\n",
      "session_length_in_minutes           0.035074\n",
      "device_os_x11                       0.000000\n",
      "device_os_windows                   0.000000\n",
      "device_os_other                     0.000000\n",
      "device_os_macintosh                 0.000000\n",
      "device_os_linux                     1.000000\n",
      "keep_alive_session                  0.000000\n",
      "device_distinct_emails_8w           0.666667\n",
      "device_fraud_count                  0.000000\n",
      "month                               1.000000\n",
      "Name: 3, dtype: float64\n"
     ]
    }
   ],
   "source": [
    "# data partitioning\n",
    "training_ratio = 0.85 # this percent will be used for training\n",
    "training_index = math.floor(len(data)*training_ratio)\n",
    "data_training = (data[:training_index]) # training data\n",
    "labels_training = pd.DataFrame(classification[:training_index]) # training data's actual value\n",
    "print(f\"Training data: {len(data_training)}\")\n",
    "display(data_training[3:10])\n",
    "data_evaluation = (data[training_index:]) # evaluation data\n",
    "labels_evaluation  = pd.DataFrame(classification[training_index:]) # evaluation data's actual value"
   ]
  },
  {
   "cell_type": "markdown",
   "metadata": {},
   "source": [
    "## Class Imbalance\n",
    "Calculate percentage of training dataset that is true and false respectively."
   ]
  },
  {
   "cell_type": "code",
   "execution_count": 21,
   "metadata": {},
   "outputs": [
    {
     "name": "stdout",
     "output_type": "stream",
     "text": [
      "weight for 0: fraud_bool    0.988733\n",
      "dtype: float64\n",
      "weight for 1: fraud_bool    0.011267\n",
      "dtype: float64\n"
     ]
    }
   ],
   "source": [
    "weight_for_1 = labels_training.sum() / len(labels_training)\n",
    "weight_for_0 = 1 - weight_for_1\n",
    "class_weight = {0: weight_for_0, 1: weight_for_1}\n",
    "print(\"weight for 0:\",weight_for_0)\n",
    "print(\"weight for 1:\",weight_for_1)"
   ]
  },
  {
   "cell_type": "markdown",
   "metadata": {},
   "source": [
    "# Fraud Distribution"
   ]
  },
  {
   "cell_type": "code",
   "execution_count": 23,
   "metadata": {},
   "outputs": [],
   "source": [
    "# plots two features' distributions on a single plot\n",
    "def distribution(label_0, label_1):\n",
    "    print(labels_training.shape)\n",
    "    fraud = pd.DataFrame(columns=data_training.columns)\n",
    "    fraud_not = pd.DataFrame(columns=data_training.columns)\n",
    "    for row in data_training:\n",
    "        if labels_training[row]:\n",
    "            fraud.append(row)\n",
    "        else:\n",
    "            fraud_not.append(row)\n",
    "\n",
    "    sns.jointplot(x=fraud[label_0], y=fraud[label_1],\n",
    "                kind='hex', xlim=(-5,5), ylim=(-5,5))\n",
    "    plt.suptitle(\"Fraudulent distribution\")\n",
    "\n",
    "    sns.jointplot(x=fraud_not[label_0], y=fraud_not[label_1],\n",
    "                kind='hex', xlim=(-5,5), ylim=(-5,5))\n",
    "    _ = plt.suptitle(\"Non-fraudulent distribution\")\n",
    "\n",
    "distribution(\"income\", \"name_email_similarity\")"
   ]
  },
  {
   "attachments": {},
   "cell_type": "markdown",
   "metadata": {
    "id": "Guq81mAAGG_L"
   },
   "source": [
    "# Model Design\n",
    "\n",
    "We will be using a simple Multilayer Neural Network for this project. This is because our data is simply just numbers, which have no spatial significance (like an image), so we will not be using a Convolutional Neural Network."
   ]
  },
  {
   "cell_type": "code",
   "execution_count": 24,
   "metadata": {
    "id": "NHTyDJ31HqHb"
   },
   "outputs": [],
   "source": [
    "# model design\n",
    "\n",
    "model = keras.Sequential(\n",
    "    [\n",
    "        keras.layers.Dense(256, activation=\"relu\", input_shape=(data_training.shape[-1],)),\n",
    "        keras.layers.Dense(256, activation=\"relu\"),\n",
    "        keras.layers.Dropout(0.3),\n",
    "        keras.layers.Dense(256, activation=\"relu\"),\n",
    "        keras.layers.Dropout(0.3),\n",
    "        keras.layers.Dense(1, activation=\"sigmoid\"),\n",
    "    ]\n",
    ")"
   ]
  },
  {
   "attachments": {},
   "cell_type": "markdown",
   "metadata": {},
   "source": [
    "# Model Compilation"
   ]
  },
  {
   "cell_type": "code",
   "execution_count": 25,
   "metadata": {},
   "outputs": [
    {
     "name": "stdout",
     "output_type": "stream",
     "text": [
      "Model: \"sequential_1\"\n",
      "_________________________________________________________________\n",
      " Layer (type)                Output Shape              Param #   \n",
      "=================================================================\n",
      " dense_4 (Dense)             (None, 256)               13568     \n",
      "                                                                 \n",
      " dense_5 (Dense)             (None, 256)               65792     \n",
      "                                                                 \n",
      " dropout_2 (Dropout)         (None, 256)               0         \n",
      "                                                                 \n",
      " dense_6 (Dense)             (None, 256)               65792     \n",
      "                                                                 \n",
      " dropout_3 (Dropout)         (None, 256)               0         \n",
      "                                                                 \n",
      " dense_7 (Dense)             (None, 1)                 257       \n",
      "                                                                 \n",
      "=================================================================\n",
      "Total params: 145,409\n",
      "Trainable params: 145,409\n",
      "Non-trainable params: 0\n",
      "_________________________________________________________________\n"
     ]
    }
   ],
   "source": [
    "model.compile(optimizer='adam',\n",
    "              loss=tf.keras.losses.BinaryCrossentropy(),\n",
    "              metrics=[tf.keras.metrics.BinaryAccuracy(),tf.keras.metrics.Precision(), tf.keras.metrics.Recall(), tf.keras.metrics.FalsePositives(), tf.keras.metrics.FalseNegatives(), tf.keras.metrics.TrueNegatives(), tf.keras.metrics.TruePositives(), tf.keras.metrics.AUC(curve=\"PR\", num_thresholds=50)])\n",
    "model.build()\n",
    "model.summary()"
   ]
  },
  {
   "attachments": {},
   "cell_type": "markdown",
   "metadata": {},
   "source": [
    "# Model Training"
   ]
  },
  {
   "cell_type": "code",
   "execution_count": 26,
   "metadata": {},
   "outputs": [
    {
     "name": "stdout",
     "output_type": "stream",
     "text": [
      "Epoch 1/3\n"
     ]
    },
    {
     "name": "stderr",
     "output_type": "stream",
     "text": [
      "2022-12-12 23:39:32.525731: I tensorflow/core/grappler/optimizers/custom_graph_optimizer_registry.cc:114] Plugin optimizer for device_type GPU is enabled.\n"
     ]
    },
    {
     "name": "stdout",
     "output_type": "stream",
     "text": [
      " 5406/26563 [=====>........................] - ETA: 5:10 - loss: 0.0015 - binary_accuracy: 0.9886 - precision_1: 0.0000e+00 - recall_1: 0.0000e+00 - false_positives_1: 1.0000 - false_negatives_1: 1977.0000 - true_negatives_1: 171014.0000 - true_positives_1: 0.0000e+00 - auc_1: 0.0115"
     ]
    }
   ],
   "source": [
    "history = model.fit(\n",
    "    x=data_training,\n",
    "    y=labels_training,\n",
    "    class_weight=class_weight,\n",
    "    epochs=3)"
   ]
  },
  {
   "cell_type": "code",
   "execution_count": null,
   "metadata": {},
   "outputs": [],
   "source": [
    "history = model.evaluate(data_evaluation, labels_evaluation)"
   ]
  },
  {
   "cell_type": "code",
   "execution_count": null,
   "metadata": {},
   "outputs": [],
   "source": [
    "display(model.predict(np.array(data_evaluation.iloc[5])))"
   ]
  },
  {
   "cell_type": "code",
   "execution_count": null,
   "metadata": {},
   "outputs": [],
   "source": [
    "print(data_evaluation.shape)"
   ]
  }
 ],
 "metadata": {
  "colab": {
   "provenance": []
  },
  "kernelspec": {
   "display_name": "Python 3 (ipykernel)",
   "language": "python",
   "name": "python3"
  },
  "language_info": {
   "codemirror_mode": {
    "name": "ipython",
    "version": 3
   },
   "file_extension": ".py",
   "mimetype": "text/x-python",
   "name": "python",
   "nbconvert_exporter": "python",
   "pygments_lexer": "ipython3",
   "version": "3.9.12"
  },
  "vscode": {
   "interpreter": {
    "hash": "916dbcbb3f70747c44a77c7bcd40155683ae19c65e1c03b4aa3499c5328201f1"
   }
  }
 },
 "nbformat": 4,
 "nbformat_minor": 1
}
