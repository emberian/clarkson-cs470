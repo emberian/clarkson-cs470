{
 "cells": [
  {
   "cell_type": "code",
   "execution_count": 2,
   "metadata": {
    "colab": {
     "base_uri": "https://localhost:8080/"
    },
    "executionInfo": {
     "elapsed": 3133,
     "status": "ok",
     "timestamp": 1670274700839,
     "user": {
      "displayName": "Ember Richardson",
      "userId": "05921004582757010193"
     },
     "user_tz": 300
    },
    "id": "ie76vEKeBDAv",
    "outputId": "fc494b1a-0a09-4678-c862-cbda099ec881"
   },
   "outputs": [],
   "source": [
    "# imports\n",
    "import os\n",
    "import math\n",
    "import tensorflow as tf\n",
    "from tensorflow import keras\n",
    "import numpy as np\n",
    "from numpy import genfromtxt\n",
    "from numpy.lib import recfunctions as rfn\n",
    "#print(tf.__version__)"
   ]
  },
  {
   "cell_type": "code",
   "execution_count": null,
   "metadata": {},
   "outputs": [],
   "source": [
    "# colab config\n",
    "#from google.colab import drive\n",
    "#drive.mount('/content/drive')\n",
    "#os.chdir('/content/drive/My Drive/cs470')"
   ]
  },
  {
   "cell_type": "code",
   "execution_count": 3,
   "metadata": {
    "colab": {
     "base_uri": "https://localhost:8080/"
    },
    "executionInfo": {
     "elapsed": 33891,
     "status": "ok",
     "timestamp": 1670278532791,
     "user": {
      "displayName": "Ember Richardson",
      "userId": "05921004582757010193"
     },
     "user_tz": 300
    },
    "id": "f4fttJacDzEe",
    "outputId": "358931ee-e096-43c0-8512-e3f65aaa1a4d"
   },
   "outputs": [
    {
     "name": "stdout",
     "output_type": "stream",
     "text": [
      "Example row: (True, 0.9, 0.1669, -1, 88, 50, 0.02092, -1.331, 1, 769, 10650.766, 3134.3196, 3863.6477, 1, 6, 1, 185, 0, 1, 1, 0, 24, 0, 500., 0, 1, 3.8881147, 1, 0, 1, 0, 7) : <class 'numpy.void'>\n",
      "Computed type of elements: [('fraud_bool', '?'), ('income', '<f4'), ('name_email_similarity', '<f2'), ('prev_address_months_count', '<i2'), ('current_address_months_count', '<i2'), ('customer_age', 'u1'), ('days_since_request', '<f2'), ('intended_balcon_amount', '<f2'), ('payment_type', 'u1'), ('zip_count_4w', '<u2'), ('velocity_6h', '<f4'), ('velocity_24h', '<f4'), ('velocity_4w', '<f4'), ('bank_branch_count_8w', '<u2'), ('date_of_birth_distinct_emails_4w', 'u1'), ('employment_status', '<u2'), ('credit_risk_score', '<i2'), ('email_is_free', 'u1'), ('housing_status', 'u1'), ('phone_home_valid', 'u1'), ('phone_mobile_valid', 'u1'), ('bank_months_count', 'i1'), ('has_other_cards', 'u1'), ('proposed_credit_limit', '<f2'), ('foreign_request', 'u1'), ('source', 'u1'), ('session_length_in_minutes', '<f4'), ('device_os', 'u1'), ('keep_alive_session', 'u1'), ('device_distinct_emails_8w', 'i1'), ('device_fraud_count', 'u1'), ('month', 'u1')]\n",
      "Same row but unparsed, does it match? 1,0.9,0.16682773442433269,-1,88,50,0.02092517283659475,-1.3313449634902534,AA,769,10650.765522770173,3134.319630490106,3863.647739528353,1,6,CA,185,0,BA,1,0,24,0,500.0,0,INTERNET,3.8881146047890933,windows,0,1,0,7)\n",
      "No issues found with datatype!\n",
      "Unstructured data: [ 1.0000000e+00  8.9999998e-01  1.6687012e-01 -1.0000000e+00\n",
      "  8.8000000e+01  5.0000000e+01  2.0919800e-02 -1.3310547e+00\n",
      "  1.0000000e+00  7.6900000e+02  1.0650766e+04  3.1343196e+03\n",
      "  3.8636477e+03  1.0000000e+00  6.0000000e+00  1.0000000e+00\n",
      "  1.8500000e+02  0.0000000e+00  1.0000000e+00  1.0000000e+00\n",
      "  0.0000000e+00  2.4000000e+01  0.0000000e+00  5.0000000e+02\n",
      "  0.0000000e+00  1.0000000e+00  3.8881147e+00  1.0000000e+00\n",
      "  0.0000000e+00  1.0000000e+00  0.0000000e+00  7.0000000e+00] : <class 'numpy.ndarray'>\n"
     ]
    }
   ],
   "source": [
    "# data\n",
    "dtypes = {\n",
    "    'fraud_bool': '?',\n",
    "    'income': 'f4',\n",
    "    'name_email_similarity': 'f2',\n",
    "    'prev_address_months_count': 'i2',\n",
    "    'current_address_months_count': 'i2',\n",
    "    'customer_age': 'u1',\n",
    "    'days_since_request': 'f2',\n",
    "    'intended_balcon_amount': 'f2',\n",
    "    'payment_type': 'u1', # STR\n",
    "    'zip_count_4w': 'u2',\n",
    "    'velocity_6h': 'f4',\n",
    "    'velocity_24h': 'f4',\n",
    "    'velocity_4w': 'f4',\n",
    "    'bank_branch_count_8w': 'u2',\n",
    "    'date_of_birth_distinct_emails_4w': 'u1',\n",
    "    'employment_status': 'u2',\n",
    "    'credit_risk_score': 'i2',\n",
    "    'email_is_free': 'u1',\n",
    "    'housing_status': 'u1', # STR\n",
    "    'phone_home_valid': 'u1',\n",
    "    'phone_mobile_valid': 'u1',\n",
    "    'bank_months_count': 'i1',\n",
    "    'has_other_cards': 'u1',\n",
    "    'proposed_credit_limit':\n",
    "    'f2', 'foreign_request': 'u1',\n",
    "    'source': 'u1', # STR\n",
    "    'session_length_in_minutes': 'f4',\n",
    "    'device_os': 'u1', # STR\n",
    "    'keep_alive_session': 'u1',\n",
    "    'device_distinct_emails_8w': 'i1',\n",
    "    'device_fraud_count': 'u1',\n",
    "    'month': 'u1'}\n",
    "\n",
    "def strconv(cat):\n",
    "    \"\"\"Returns a function that maps its input string to the same small number each time.\"\"\"\n",
    "    seen = {}\n",
    "    def inner(s):\n",
    "        nonlocal seen\n",
    "        if s not in seen:\n",
    "            seen[s] = len(seen)\n",
    "        return seen[s]\n",
    "    return inner\n",
    "\n",
    "strconvs = {\n",
    "    'source': strconv(\"source\"),\n",
    "    'device_os': strconv(\"device_os\"),\n",
    "    'housing_status': strconv(\"housing_status\"),\n",
    "    'payment_type': strconv(\"payment_type\"),\n",
    "    'employment_status': strconv(\"employment_status\")\n",
    "}\n",
    "\n",
    "column_labels = list(next(open('Base.csv')).strip().split(','))\n",
    "converters = {0: lambda s: bool(int(s))}\n",
    "for k, v in strconvs.items():\n",
    "    converters[column_labels.index(k)] = v\n",
    "rawdata = genfromtxt('Base.csv', dtype=[dtypes[n] for n in column_labels],\n",
    "                  names=column_labels, delimiter=',', converters=converters)[1:] # skip header\n",
    "txtdata = list(open('Base.csv').read().split('\\n'))[1:]\n",
    "print(f'Example row: {rawdata[0]} : {type(rawdata[0])}')\n",
    "print(f'Computed type of elements: {rawdata.dtype}')\n",
    "print(f'Same row but unparsed, does it match? {txtdata[0]})')\n",
    "issue = False\n",
    "anyissue = False\n",
    "for rowix, (txtrow, rawrow) in enumerate(zip(txtdata, rawdata)):\n",
    "    if not (rawrow[0] == 0 or rawrow[0] == 1):\n",
    "        print(f'WARN: fraud_bool for row {rowix} is {rawrow[0]}, not 0 or 1!')\n",
    "        anyissue = True\n",
    "\n",
    "    for ix, c in enumerate(rawrow):\n",
    "        if ix == 4 and c == 65535:\n",
    "            continue # this is the one column where -1 as missing is OK\n",
    "        if type(c) != np.str_ and np.isnan(c):\n",
    "            print(f'{rawrow} has a nan at {ix}!')\n",
    "        elif np.issubdtype(type(c), np.integer):\n",
    "            info = np.iinfo(type(c))\n",
    "            if (c == info.min or c == info.max) and c!=0:\n",
    "                issue = True\n",
    "                print(f'WARN: column {ix} row {rowix} ({column_labels[ix]}) has maxed out the irange of {type(c)}!')\n",
    "        elif np.issubdtype(type(c), np.floating):\n",
    "            info = np.finfo(type(c))\n",
    "            if c == info.min or c == info.max:\n",
    "                issue = True\n",
    "                print(f'WARN: column {ix} row {rowix} ({column_labels[ix]}) has maxed out the frange of {type(c)}!')\n",
    "    if issue:\n",
    "        print(f'row was: {rawrow}')\n",
    "        print(f'source data was: {txtrow}')\n",
    "        anyissue = True\n",
    "        issue = False\n",
    "else:\n",
    "    if not anyissue:\n",
    "        print('No issues found with datatype!')\n",
    "    else:\n",
    "        print('Issues found with datatype! Look closely!')\n",
    "data = rfn.structured_to_unstructured(rawdata, dtype=np.float32)\n",
    "print(f'Unstructured data: {data[0]} : {type(data[0])}')"
   ]
  },
  {
   "cell_type": "markdown",
   "metadata": {},
   "source": [
    "Now that we've parsed the data and verified some basic properties about it, we are ready to further process it into a useful form. First, we will min-max normalize the data:"
   ]
  },
  {
   "cell_type": "code",
   "execution_count": 4,
   "metadata": {},
   "outputs": [
    {
     "name": "stdout",
     "output_type": "stream",
     "text": [
      "[1.0000000e+00 1.0000000e+00 1.5954469e-01 0.0000000e+00 5.3613052e-02\n",
      " 5.0000000e-01 2.4316796e-04 1.1151484e-01 2.5000000e-01 1.2076429e-01\n",
      " 2.1483068e-01 3.3565724e-01 4.7136649e-02 8.0545074e-01 1.5384616e-01\n",
      " 0.0000000e+00 5.0089443e-01 1.0000000e+00 0.0000000e+00 0.0000000e+00\n",
      " 1.0000000e+00 9.6969700e-01 1.0000000e+00 5.2356021e-03 0.0000000e+00\n",
      " 0.0000000e+00 3.5074048e-02 5.0000000e-01 0.0000000e+00 6.6666669e-01\n",
      " 0.0000000e+00 1.0000000e+00]\n"
     ]
    }
   ],
   "source": [
    "# min-max normalize each column\n",
    "normdata = np.zeros(data.shape, dtype=np.float32)\n",
    "for colix in range(data.shape[1]):\n",
    "    col = data[:, colix]\n",
    "    colmin = col.min()\n",
    "    colmax = col.max()\n",
    "    colrange = colmax - colmin\n",
    "    if colrange != 0:\n",
    "        normdata[:, colix] = (col - colmin) / colrange\n",
    "    else:\n",
    "        normdata[:,colix] = data[:,colix]\n",
    "print(normdata[3])"
   ]
  },
  {
   "cell_type": "code",
   "execution_count": 22,
   "metadata": {},
   "outputs": [
    {
     "name": "stdout",
     "output_type": "stream",
     "text": [
      "in the training set, 9577 are fraud (1.13%)\n",
      "in the evaluation set, 1452 are fraud (0.97%)\n"
     ]
    }
   ],
   "source": [
    "is_fraud_ground_truth = np.int_(normdata[:,:1])\n",
    "real_dataset = normdata[:,1:]  # skip the fraud bool\n",
    "#np.array([np.array(row)[1:] for row in rawdata]) # skip the fraud bool\n",
    "training_size = math.floor(len(real_dataset)*0.85)\n",
    "training_dataset = real_dataset[:training_size]\n",
    "evaluation_dataset = real_dataset[training_size:]\n",
    "evaluation_dataset_labels = is_fraud_ground_truth[training_size:]\n",
    "training_labels = is_fraud_ground_truth[:training_size]\n",
    "print(f'in the training set, {training_labels.sum()} are fraud ({100*training_labels.sum()/len(training_labels):.2f}%)')\n",
    "print(f'in the evaluation set, {evaluation_dataset_labels.sum()} are fraud ({100*evaluation_dataset_labels.sum()/len(evaluation_dataset_labels):.2f}%)')"
   ]
  },
  {
   "cell_type": "code",
   "execution_count": 12,
   "metadata": {
    "colab": {
     "base_uri": "https://localhost:8080/"
    },
    "executionInfo": {
     "elapsed": 144,
     "status": "ok",
     "timestamp": 1670278573430,
     "user": {
      "displayName": "Ember Richardson",
      "userId": "05921004582757010193"
     },
     "user_tz": 300
    },
    "id": "PTh3HkUEUfCM",
    "outputId": "f4f08497-159a-49f9-8e07-79608675b5c5"
   },
   "outputs": [
    {
     "name": "stdout",
     "output_type": "stream",
     "text": [
      "<class 'numpy.ndarray'>\n",
      "<class 'numpy.dtype[int64]'>\n",
      "(1000000, 1)\n",
      "<class 'numpy.ndarray'>\n",
      "<class 'numpy.dtype[int64]'>\n",
      "(850000, 1)\n",
      "[[1.00000000e+00 1.59544691e-01 0.00000000e+00 5.36130518e-02\n",
      "  5.00000000e-01 2.43167960e-04 1.11514837e-01 2.50000000e-01\n",
      "  1.20764293e-01 2.14830682e-01 3.35657239e-01 4.71366495e-02\n",
      "  8.05450737e-01 1.53846160e-01 0.00000000e+00 5.00894427e-01\n",
      "  1.00000000e+00 0.00000000e+00 0.00000000e+00 1.00000000e+00\n",
      "  9.69696999e-01 1.00000000e+00 5.23560215e-03 0.00000000e+00\n",
      "  0.00000000e+00 3.50740477e-02 5.00000000e-01 0.00000000e+00\n",
      "  6.66666687e-01 0.00000000e+00 1.00000000e+00]\n",
      " [1.00000000e+00 5.96190810e-01 0.00000000e+00 5.10489523e-01\n",
      "  5.00000000e-01 5.66095005e-05 1.14874728e-01 2.50000000e-01\n",
      "  1.32706374e-01 3.07408094e-01 1.73997954e-01 6.28260076e-02\n",
      "  8.34381580e-01 5.12820520e-02 0.00000000e+00 8.31842601e-01\n",
      "  1.00000000e+00 0.00000000e+00 1.00000000e+00 0.00000000e+00\n",
      "  9.69696999e-01 0.00000000e+00 6.85863853e-01 0.00000000e+00\n",
      "  0.00000000e+00 5.49513474e-02 7.50000000e-01 1.00000000e+00\n",
      "  6.66666687e-01 0.00000000e+00 1.00000000e+00]\n",
      " [2.50000030e-01 1.43919677e-01 0.00000000e+00 7.22610727e-02\n",
      "  2.50000000e-01 3.59888567e-04 1.15072370e-01 7.50000000e-01\n",
      "  1.09120764e-01 2.00984105e-01 3.05181146e-01 5.40401936e-01\n",
      "  2.09643599e-03 3.33333343e-01 0.00000000e+00 6.60107315e-01\n",
      "  1.00000000e+00 1.66666672e-01 0.00000000e+00 1.00000000e+00\n",
      "  4.84848499e-01 0.00000000e+00 5.23560215e-03 0.00000000e+00\n",
      "  0.00000000e+00 6.69175014e-02 0.00000000e+00 0.00000000e+00\n",
      "  6.66666687e-01 0.00000000e+00 1.00000000e+00]\n",
      " [7.50000000e-01 3.21532220e-01 0.00000000e+00 3.56643349e-01\n",
      "  2.50000000e-01 3.91208596e-04 1.18723013e-01 2.50000000e-01\n",
      "  1.30616516e-01 3.36747468e-01 1.64882466e-01 6.33339062e-02\n",
      "  5.45073394e-03 2.56410271e-01 0.00000000e+00 7.90697694e-01\n",
      "  1.00000000e+00 0.00000000e+00 1.00000000e+00 1.00000000e+00\n",
      "  9.39393938e-01 0.00000000e+00 6.85863853e-01 0.00000000e+00\n",
      "  0.00000000e+00 2.94476748e-02 0.00000000e+00 1.00000000e+00\n",
      "  6.66666687e-01 0.00000000e+00 1.00000000e+00]\n",
      " [1.00000000e+00 6.48179948e-02 0.00000000e+00 4.42890450e-02\n",
      "  5.00000000e-01 4.40425792e-04 1.11043543e-01 2.50000000e-01\n",
      "  1.34348407e-01 2.90582061e-01 6.62077308e-01 2.39956126e-01\n",
      "  1.67714879e-02 2.56410260e-02 1.66666672e-01 4.52593923e-01\n",
      "  1.00000000e+00 1.66666672e-01 1.00000000e+00 0.00000000e+00\n",
      "  8.78787875e-01 0.00000000e+00 5.23560215e-03 1.00000000e+00\n",
      "  0.00000000e+00 4.18585464e-02 5.00000000e-01 0.00000000e+00\n",
      "  6.66666687e-01 0.00000000e+00 1.00000000e+00]\n",
      " [7.50000000e-01 6.59166351e-02 0.00000000e+00 1.51515156e-01\n",
      "  3.75000000e-01 2.63788592e-04 1.09667659e-01 2.50000000e-01\n",
      "  1.39125243e-01 3.71419579e-01 3.10659409e-01 6.32098764e-02\n",
      "  8.94758880e-01 1.02564104e-01 3.33333343e-01 7.01252222e-01\n",
      "  0.00000000e+00 0.00000000e+00 1.00000000e+00 1.00000000e+00\n",
      "  9.39393938e-01 0.00000000e+00 6.85863853e-01 0.00000000e+00\n",
      "  0.00000000e+00 3.65414359e-02 0.00000000e+00 1.00000000e+00\n",
      "  6.66666687e-01 0.00000000e+00 1.00000000e+00]\n",
      " [1.00000000e+00 7.00194895e-01 0.00000000e+00 1.42191142e-01\n",
      "  3.75000000e-01 2.14376865e-04 1.12563856e-01 2.50000000e-01\n",
      "  1.75399318e-01 2.76858151e-01 3.03844184e-01 5.64875677e-02\n",
      "  3.35429772e-03 5.12820520e-02 1.66666672e-01 5.15205741e-01\n",
      "  1.00000000e+00 3.33333343e-01 0.00000000e+00 1.00000000e+00\n",
      "  7.87878811e-01 0.00000000e+00 5.23560215e-03 0.00000000e+00\n",
      "  0.00000000e+00 2.88158506e-01 0.00000000e+00 0.00000000e+00\n",
      "  6.66666687e-01 0.00000000e+00 1.00000000e+00]]\n",
      "<class 'numpy.ndarray'>\n",
      "<class 'numpy.dtype[float32]'>\n",
      "(850000, 31)\n"
     ]
    }
   ],
   "source": [
    "def dbg_ndarray(val):\n",
    "    print(type(val))\n",
    "    print(type(val.dtype))\n",
    "    print(val.shape)\n",
    "dbg_ndarray(is_fraud_ground_truth)\n",
    "dbg_ndarray(training_labels)\n",
    "print(training_dataset[3:10])\n",
    "dbg_ndarray(training_dataset)"
   ]
  },
  {
   "cell_type": "code",
   "execution_count": 13,
   "metadata": {
    "colab": {
     "base_uri": "https://localhost:8080/"
    },
    "executionInfo": {
     "elapsed": 141,
     "status": "ok",
     "timestamp": 1670278116095,
     "user": {
      "displayName": "Ember Richardson",
      "userId": "05921004582757010193"
     },
     "user_tz": 300
    },
    "id": "fPX9g3ZIUen9",
    "outputId": "24fecd2b-2888-4a6e-8806-972ec1e6c3cf"
   },
   "outputs": [
    {
     "name": "stdout",
     "output_type": "stream",
     "text": [
      "[[1.00000000e+00 1.66868925e-01 0.00000000e+00 2.07459211e-01\n",
      "  5.00000000e-01 2.66706600e-04 1.10534236e-01 0.00000000e+00\n",
      "  1.14643976e-01 6.40842199e-01 2.23480448e-01 2.48955518e-01\n",
      "  4.19287215e-04 1.53846160e-01 0.00000000e+00 6.35062635e-01\n",
      "  0.00000000e+00 0.00000000e+00 1.00000000e+00 0.00000000e+00\n",
      "  7.57575750e-01 0.00000000e+00 1.62303671e-01 0.00000000e+00\n",
      "  0.00000000e+00 5.62504418e-02 0.00000000e+00 0.00000000e+00\n",
      "  6.66666687e-01 0.00000000e+00 1.00000000e+00]\n",
      " [1.00000000e+00 2.96385705e-01 0.00000000e+00 3.37995350e-01\n",
      "  5.00000000e-01 6.90597008e-05 1.14540257e-01 2.50000000e-01\n",
      "  5.44857457e-02 4.17294428e-02 1.67013466e-01 7.16115832e-02\n",
      "  3.01048219e-01 7.69230798e-02 0.00000000e+00 7.67441869e-01\n",
      "  1.00000000e+00 0.00000000e+00 0.00000000e+00 0.00000000e+00\n",
      "  4.84848499e-01 0.00000000e+00 6.85863853e-01 0.00000000e+00\n",
      "  0.00000000e+00 3.77435505e-01 0.00000000e+00 0.00000000e+00\n",
      "  6.66666687e-01 0.00000000e+00 1.00000000e+00]]\n"
     ]
    }
   ],
   "source": [
    "print(real_dataset[0:2])"
   ]
  },
  {
   "cell_type": "markdown",
   "metadata": {
    "id": "Guq81mAAGG_L"
   },
   "source": []
  },
  {
   "cell_type": "code",
   "execution_count": 25,
   "metadata": {
    "id": "NHTyDJ31HqHb"
   },
   "outputs": [],
   "source": [
    "#Model old\n",
    "model: keras.Model = keras.Sequential([\n",
    "    #keras.layers.Dense((32**2) * 4, activation='relu'),\n",
    "    #keras.layers.Dense((32**2) * 2, activation='relu'),\n",
    "    keras.layers.Dense(32**2, activation='relu'),\n",
    "    keras.layers.Dense((32**2)/4, activation='relu'),\n",
    "    keras.layers.Dense(1, activation='sigmoid')\n",
    "])"
   ]
  },
  {
   "cell_type": "code",
   "execution_count": 26,
   "metadata": {},
   "outputs": [],
   "source": [
    "#compile\n",
    "model.compile(optimizer='adam',\n",
    "              loss=tf.keras.losses.BinaryCrossentropy(),\n",
    "              metrics=[tf.keras.metrics.BinaryAccuracy(), tf.keras.metrics.Precision(), tf.keras.metrics.Recall(), tf.keras.metrics.FalsePositives(), tf.keras.metrics.FalseNegatives(), tf.keras.metrics.TrueNegatives(), tf.keras.metrics.TruePositives()])\n"
   ]
  },
  {
   "cell_type": "code",
   "execution_count": 27,
   "metadata": {},
   "outputs": [
    {
     "name": "stdout",
     "output_type": "stream",
     "text": [
      "Epoch 1/3\n"
     ]
    },
    {
     "name": "stderr",
     "output_type": "stream",
     "text": [
      "2022-12-11 15:08:15.274111: I tensorflow/core/grappler/optimizers/custom_graph_optimizer_registry.cc:114] Plugin optimizer for device_type GPU is enabled.\n"
     ]
    },
    {
     "name": "stdout",
     "output_type": "stream",
     "text": [
      "23907/23907 [==============================] - ETA: 0s - loss: 0.0554 - binary_accuracy: 0.9875 - precision: 0.5455 - false_positives: 5.0000"
     ]
    },
    {
     "name": "stderr",
     "output_type": "stream",
     "text": [
      "2022-12-11 15:11:37.991306: I tensorflow/core/grappler/optimizers/custom_graph_optimizer_registry.cc:114] Plugin optimizer for device_type GPU is enabled.\n"
     ]
    },
    {
     "name": "stdout",
     "output_type": "stream",
     "text": [
      "23907/23907 [==============================] - 216s 9ms/step - loss: 0.0554 - binary_accuracy: 0.9875 - precision: 0.5455 - false_positives: 5.0000 - val_loss: 0.0106 - val_binary_accuracy: 1.0000 - val_precision: 0.0000e+00 - val_false_positives: 0.0000e+00\n",
      "Epoch 2/3\n",
      "23907/23907 [==============================] - 214s 9ms/step - loss: 0.0533 - binary_accuracy: 0.9875 - precision: 0.5658 - false_positives: 33.0000 - val_loss: 0.0207 - val_binary_accuracy: 0.9999 - val_precision: 0.0000e+00 - val_false_positives: 5.0000\n",
      "Epoch 3/3\n",
      "23907/23907 [==============================] - 214s 9ms/step - loss: 0.0526 - binary_accuracy: 0.9875 - precision: 0.5696 - false_positives: 68.0000 - val_loss: 0.0084 - val_binary_accuracy: 1.0000 - val_precision: 0.0000e+00 - val_false_positives: 0.0000e+00\n"
     ]
    }
   ],
   "source": [
    "#fit\n",
    "history = model.fit(x=training_dataset, y=is_fraud_ground_truth_training, epochs=3, validation_split=0.1)"
   ]
  },
  {
   "cell_type": "code",
   "execution_count": 28,
   "metadata": {},
   "outputs": [
    {
     "name": "stdout",
     "output_type": "stream",
     "text": [
      "4688/4688 [==============================] - 28s 6ms/step - loss: 0.0413 - binary_accuracy: 0.9903 - precision: 0.5000 - false_positives: 3.0000\n"
     ]
    }
   ],
   "source": [
    "history = model.evaluate(evaluation_dataset, evaluation_dataset_labels)"
   ]
  },
  {
   "cell_type": "code",
   "execution_count": 29,
   "metadata": {},
   "outputs": [
    {
     "name": "stdout",
     "output_type": "stream",
     "text": [
      "WARNING:tensorflow:Model was constructed with shape (None, 31) for input KerasTensor(type_spec=TensorSpec(shape=(None, 31), dtype=tf.float32, name='dense_10_input'), name='dense_10_input', description=\"created by layer 'dense_10_input'\"), but it was called on an input with incompatible shape (None,).\n"
     ]
    },
    {
     "ename": "ValueError",
     "evalue": "in user code:\n\n    File \"/Users/ember/Library/Python/3.10/lib/python/site-packages/keras/engine/training.py\", line 2041, in predict_function  *\n        return step_function(self, iterator)\n    File \"/Users/ember/Library/Python/3.10/lib/python/site-packages/keras/engine/training.py\", line 2027, in step_function  **\n        outputs = model.distribute_strategy.run(run_step, args=(data,))\n    File \"/Users/ember/Library/Python/3.10/lib/python/site-packages/keras/engine/training.py\", line 2015, in run_step  **\n        outputs = model.predict_step(data)\n    File \"/Users/ember/Library/Python/3.10/lib/python/site-packages/keras/engine/training.py\", line 1983, in predict_step\n        return self(x, training=False)\n    File \"/Users/ember/Library/Python/3.10/lib/python/site-packages/keras/utils/traceback_utils.py\", line 70, in error_handler\n        raise e.with_traceback(filtered_tb) from None\n    File \"/Users/ember/Library/Python/3.10/lib/python/site-packages/keras/engine/input_spec.py\", line 250, in assert_input_compatibility\n        raise ValueError(\n\n    ValueError: Exception encountered when calling layer \"sequential_2\" \"                 f\"(type Sequential).\n    \n    Input 0 of layer \"dense_10\" is incompatible with the layer: expected min_ndim=2, found ndim=1. Full shape received: (None,)\n    \n    Call arguments received by layer \"sequential_2\" \"                 f\"(type Sequential):\n      • inputs=tf.Tensor(shape=(None,), dtype=float32)\n      • training=False\n      • mask=None\n",
     "output_type": "error",
     "traceback": [
      "\u001b[0;31m---------------------------------------------------------------------------\u001b[0m",
      "\u001b[0;31mValueError\u001b[0m                                Traceback (most recent call last)",
      "Cell \u001b[0;32mIn[29], line 1\u001b[0m\n\u001b[0;32m----> 1\u001b[0m model\u001b[39m.\u001b[39;49mpredict(evaluation_dataset[\u001b[39m5\u001b[39;49m])\n",
      "File \u001b[0;32m~/Library/Python/3.10/lib/python/site-packages/keras/utils/traceback_utils.py:70\u001b[0m, in \u001b[0;36mfilter_traceback.<locals>.error_handler\u001b[0;34m(*args, **kwargs)\u001b[0m\n\u001b[1;32m     67\u001b[0m     filtered_tb \u001b[39m=\u001b[39m _process_traceback_frames(e\u001b[39m.\u001b[39m__traceback__)\n\u001b[1;32m     68\u001b[0m     \u001b[39m# To get the full stack trace, call:\u001b[39;00m\n\u001b[1;32m     69\u001b[0m     \u001b[39m# `tf.debugging.disable_traceback_filtering()`\u001b[39;00m\n\u001b[0;32m---> 70\u001b[0m     \u001b[39mraise\u001b[39;00m e\u001b[39m.\u001b[39mwith_traceback(filtered_tb) \u001b[39mfrom\u001b[39;00m \u001b[39mNone\u001b[39m\n\u001b[1;32m     71\u001b[0m \u001b[39mfinally\u001b[39;00m:\n\u001b[1;32m     72\u001b[0m     \u001b[39mdel\u001b[39;00m filtered_tb\n",
      "File \u001b[0;32m/var/folders/_k/y80r31d93znc37qc17w6jq_w0000gn/T/__autograph_generated_file_21hzy5y.py:15\u001b[0m, in \u001b[0;36mouter_factory.<locals>.inner_factory.<locals>.tf__predict_function\u001b[0;34m(iterator)\u001b[0m\n\u001b[1;32m     13\u001b[0m \u001b[39mtry\u001b[39;00m:\n\u001b[1;32m     14\u001b[0m     do_return \u001b[39m=\u001b[39m \u001b[39mTrue\u001b[39;00m\n\u001b[0;32m---> 15\u001b[0m     retval_ \u001b[39m=\u001b[39m ag__\u001b[39m.\u001b[39mconverted_call(ag__\u001b[39m.\u001b[39mld(step_function), (ag__\u001b[39m.\u001b[39mld(\u001b[39mself\u001b[39m), ag__\u001b[39m.\u001b[39mld(iterator)), \u001b[39mNone\u001b[39;00m, fscope)\n\u001b[1;32m     16\u001b[0m \u001b[39mexcept\u001b[39;00m:\n\u001b[1;32m     17\u001b[0m     do_return \u001b[39m=\u001b[39m \u001b[39mFalse\u001b[39;00m\n",
      "\u001b[0;31mValueError\u001b[0m: in user code:\n\n    File \"/Users/ember/Library/Python/3.10/lib/python/site-packages/keras/engine/training.py\", line 2041, in predict_function  *\n        return step_function(self, iterator)\n    File \"/Users/ember/Library/Python/3.10/lib/python/site-packages/keras/engine/training.py\", line 2027, in step_function  **\n        outputs = model.distribute_strategy.run(run_step, args=(data,))\n    File \"/Users/ember/Library/Python/3.10/lib/python/site-packages/keras/engine/training.py\", line 2015, in run_step  **\n        outputs = model.predict_step(data)\n    File \"/Users/ember/Library/Python/3.10/lib/python/site-packages/keras/engine/training.py\", line 1983, in predict_step\n        return self(x, training=False)\n    File \"/Users/ember/Library/Python/3.10/lib/python/site-packages/keras/utils/traceback_utils.py\", line 70, in error_handler\n        raise e.with_traceback(filtered_tb) from None\n    File \"/Users/ember/Library/Python/3.10/lib/python/site-packages/keras/engine/input_spec.py\", line 250, in assert_input_compatibility\n        raise ValueError(\n\n    ValueError: Exception encountered when calling layer \"sequential_2\" \"                 f\"(type Sequential).\n    \n    Input 0 of layer \"dense_10\" is incompatible with the layer: expected min_ndim=2, found ndim=1. Full shape received: (None,)\n    \n    Call arguments received by layer \"sequential_2\" \"                 f\"(type Sequential):\n      • inputs=tf.Tensor(shape=(None,), dtype=float32)\n      • training=False\n      • mask=None\n"
     ]
    }
   ],
   "source": [
    "model.predict(evaluation_dataset[5])"
   ]
  },
  {
   "cell_type": "code",
   "execution_count": null,
   "metadata": {},
   "outputs": [],
   "source": []
  }
 ],
 "metadata": {
  "colab": {
   "provenance": []
  },
  "kernelspec": {
   "display_name": "Python 3.10.8 64-bit",
   "language": "python",
   "name": "python3"
  },
  "language_info": {
   "codemirror_mode": {
    "name": "ipython",
    "version": 3
   },
   "file_extension": ".py",
   "mimetype": "text/x-python",
   "name": "python",
   "nbconvert_exporter": "python",
   "pygments_lexer": "ipython3",
   "version": "3.10.8"
  },
  "vscode": {
   "interpreter": {
    "hash": "b0fa6594d8f4cbf19f97940f81e996739fb7646882a419484c72d19e05852a7e"
   }
  }
 },
 "nbformat": 4,
 "nbformat_minor": 1
}
