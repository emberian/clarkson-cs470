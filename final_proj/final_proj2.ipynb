{
 "cells": [
  {
   "cell_type": "code",
   "execution_count": 9,
   "metadata": {
    "colab": {
     "base_uri": "https://localhost:8080/"
    },
    "executionInfo": {
     "elapsed": 3133,
     "status": "ok",
     "timestamp": 1670274700839,
     "user": {
      "displayName": "Ember Richardson",
      "userId": "05921004582757010193"
     },
     "user_tz": 300
    },
    "id": "ie76vEKeBDAv",
    "outputId": "fc494b1a-0a09-4678-c862-cbda099ec881"
   },
   "outputs": [],
   "source": [
    "# imports\n",
    "import os\n",
    "import math\n",
    "#import tensorflow as tf\n",
    "#from tensorflow import keras\n",
    "import numpy as np\n",
    "from numpy import genfromtxt\n",
    "#print(tf.__version__)"
   ]
  },
  {
   "cell_type": "code",
   "execution_count": 14,
   "metadata": {
    "colab": {
     "base_uri": "https://localhost:8080/"
    },
    "executionInfo": {
     "elapsed": 33891,
     "status": "ok",
     "timestamp": 1670278532791,
     "user": {
      "displayName": "Ember Richardson",
      "userId": "05921004582757010193"
     },
     "user_tz": 300
    },
    "id": "f4fttJacDzEe",
    "outputId": "358931ee-e096-43c0-8512-e3f65aaa1a4d"
   },
   "outputs": [
    {
     "name": "stdout",
     "output_type": "stream",
     "text": [
      "Example row: (True, 0.9, 0.1669, -1, 88, 50, 0.02092, -1, 1, 769, 10650, 3134, 3863, 1, 6, 1, 185, False, 1, False, False, 24, False, 500, False, 1, 3, 1, False, 1, False, 7) : <class 'numpy.void'>\n",
      "Computed type of elements: [('fraud_bool', '?'), ('income', '<f4'), ('name_email_similarity', '<f2'), ('prev_address_months_count', '<i2'), ('current_address_months_count', '<i2'), ('customer_age', 'u1'), ('days_since_request', '<f2'), ('intended_balcon_amount', '<i2'), ('payment_type', 'u1'), ('zip_count_4w', '<u2'), ('velocity_6h', '<i4'), ('velocity_24h', '<u2'), ('velocity_4w', '<u2'), ('bank_branch_count_8w', '<u2'), ('date_of_birth_distinct_emails_4w', 'u1'), ('employment_status', '<u2'), ('credit_risk_score', '<i2'), ('email_is_free', '?'), ('housing_status', 'u1'), ('phone_home_valid', '?'), ('phone_mobile_valid', '?'), ('bank_months_count', 'i1'), ('has_other_cards', '?'), ('proposed_credit_limit', '<u2'), ('foreign_request', '?'), ('source', 'u1'), ('session_length_in_minutes', 'i1'), ('device_os', 'u1'), ('keep_alive_session', '?'), ('device_distinct_emails_8w', 'i1'), ('device_fraud_count', '?'), ('month', 'u1')]\n",
      "Same row but unparsed, does it match? 1,0.9,0.16682773442433269,-1,88,50,0.02092517283659475,-1.3313449634902534,AA,769,10650.765522770173,3134.319630490106,3863.647739528353,1,6,CA,185,0,BA,1,0,24,0,500.0,0,INTERNET,3.8881146047890933,windows,0,1,0,7)\n"
     ]
    }
   ],
   "source": [
    "# data\n",
    "dtypes = {\n",
    "    'fraud_bool': '?',\n",
    "    'income': 'f4',\n",
    "    'name_email_similarity': 'f2',\n",
    "    'prev_address_months_count': 'i2',\n",
    "    'current_address_months_count': 'i2',\n",
    "    'customer_age': 'u1',\n",
    "    'days_since_request': 'f2',\n",
    "    'intended_balcon_amount': 'i2',\n",
    "    'payment_type': 'u1', # STR\n",
    "    'zip_count_4w': 'u2',\n",
    "    'velocity_6h': 'i4',\n",
    "    'velocity_24h': 'u2',\n",
    "    'velocity_4w': 'u2',\n",
    "    'bank_branch_count_8w': 'u2',\n",
    "    'date_of_birth_distinct_emails_4w': 'u1',\n",
    "    'employment_status': 'u2',\n",
    "    'credit_risk_score': 'i2',\n",
    "    'email_is_free': '?',\n",
    "    'housing_status': 'u1', # STR\n",
    "    'phone_home_valid': '?',\n",
    "    'phone_mobile_valid': '?',\n",
    "    'bank_months_count': 'i1',\n",
    "    'has_other_cards': '?',\n",
    "    'proposed_credit_limit':\n",
    "    'u2', 'foreign_request': '?',\n",
    "    'source': 'u1', # STR\n",
    "    'session_length_in_minutes': 'i1',\n",
    "    'device_os': 'u1', # STR\n",
    "    'keep_alive_session': '?',\n",
    "    'device_distinct_emails_8w': 'i1',\n",
    "    'device_fraud_count': '?',\n",
    "    'month': 'u1'}\n",
    "\n",
    "def strconv(cat):\n",
    "    seen = {}\n",
    "    def inner(s):\n",
    "        nonlocal seen\n",
    "        if s not in seen:\n",
    "            seen[s] = len(seen)\n",
    "        return seen[s]\n",
    "    return inner\n",
    "\n",
    "strconvs = {\n",
    "    'source': strconv(\"source\"),\n",
    "    'device_os': strconv(\"device_os\"),\n",
    "    'housing_status': strconv(\"housing_status\"),\n",
    "    'payment_type': strconv(\"payment_type\"),\n",
    "    'employment_status': strconv(\"employment_status\")\n",
    "}\n",
    "\n",
    "column_labels = list(next(open('Base.csv')).strip().split(','))\n",
    "converters = {0: lambda s: bool(int(s))}\n",
    "for k, v in strconvs.items():\n",
    "    converters[column_labels.index(k)] = v\n",
    "rawdata = genfromtxt('Base.csv', dtype=[dtypes[n] for n in column_labels],\n",
    "                  names=column_labels, delimiter=',', converters=converters)[1:] # skip header\n",
    "txtdata = list(open('Base.csv').read().split('\\n'))[1:]\n",
    "print(f'Example row: {rawdata[0]} : {type(rawdata[0])}')\n",
    "print(f'Computed type of elements: {rawdata.dtype}')\n",
    "print(f'Same row but unparsed, does it match? {txtdata[0]})')\n",
    "issue = False\n",
    "anyissue = False\n",
    "for rowix, (txtrow, rawrow) in enumerate(zip(txtdata, rawdata)):\n",
    "    for ix, c in enumerate(rawrow):\n",
    "        if ix == 4 and c == 65535:\n",
    "            continue # this is the one column where -1 as missing is OK\n",
    "        if type(c) != np.str_ and np.isnan(c):\n",
    "            print(f'{rawrow} has a nan at {ix}!')\n",
    "        elif np.issubdtype(type(c), np.integer):\n",
    "            info = np.iinfo(type(c))\n",
    "            if (c == info.min or c == info.max) and c!=0:\n",
    "                issue = True\n",
    "                print(f'WARN: column {ix} row {rowix} ({column_labels[ix]}) has maxed out the irange of {type(c)}!')\n",
    "        elif np.issubdtype(type(c), np.floating):\n",
    "            info = np.finfo(type(c))\n",
    "            if c == info.min or c == info.max:\n",
    "                issue = True\n",
    "                print(f'WARN: column {ix} row {rowix} ({column_labels[ix]}) has maxed out the frange of {type(c)}!')\n",
    "    if issue:\n",
    "        print(f'row was: {rawrow}')\n",
    "        print(f'source data was: {txtrow}')\n",
    "        anyissue = True\n",
    "        issue = False\n",
    "else:\n",
    "    if not anyissue:\n",
    "        print('No issues found with datatype!')\n",
    "    else:\n",
    "        print('Issues found with datatype! Look closely!')\n",
    "is_fraud_ground_truth = [row[0] for row in rawdata]\n",
    "data = np.array([np.array(row)[1:] for row in rawdata]) # skip the fraud bool"
   ]
  },
  {
   "cell_type": "code",
   "execution_count": null,
   "metadata": {},
   "outputs": [
    {
     "name": "stdout",
     "output_type": "stream",
     "text": [
      "6200000\n",
      "31000000\n",
      "200000\n",
      "200000\n",
      "24800000\n"
     ]
    }
   ],
   "source": [
    "real_dataset = data\n",
    "training_size = math.floor(len(real_dataset)*.2)\n",
    "training_dataset = real_dataset[:training_size,:]\n",
    "evaluation_dataset = real_dataset[training_size:,:]\n",
    "evaluation_dataset_labels = is_fraud_ground_truth[training_size:]\n",
    "is_fraud_ground_truth_training = is_fraud_ground_truth[:training_size]"
   ]
  },
  {
   "cell_type": "code",
   "execution_count": null,
   "metadata": {
    "colab": {
     "base_uri": "https://localhost:8080/"
    },
    "executionInfo": {
     "elapsed": 144,
     "status": "ok",
     "timestamp": 1670278573430,
     "user": {
      "displayName": "Ember Richardson",
      "userId": "05921004582757010193"
     },
     "user_tz": 300
    },
    "id": "PTh3HkUEUfCM",
    "outputId": "f4f08497-159a-49f9-8e07-79608675b5c5"
   },
   "outputs": [
    {
     "name": "stdout",
     "output_type": "stream",
     "text": [
      "['fraud_bool', 'income', 'name_email_similarity', 'prev_address_months_count', 'current_address_months_count', 'customer_age', 'days_since_request', 'intended_balcon_amount', 'payment_type', 'zip_count_4w', 'velocity_6h', 'velocity_24h', 'velocity_4w', 'bank_branch_count_8w', 'date_of_birth_distinct_emails_4w', 'employment_status', 'credit_risk_score', 'email_is_free', 'housing_status', 'phone_home_valid', 'phone_mobile_valid', 'bank_months_count', 'has_other_cards', 'proposed_credit_limit', 'foreign_request', 'source', 'session_length_in_minutes', 'device_os', 'keep_alive_session', 'device_distinct_emails_8w', 'device_fraud_count', 'month\\n']\n"
     ]
    }
   ],
   "source": [
    "print(column_labels)"
   ]
  },
  {
   "cell_type": "code",
   "execution_count": null,
   "metadata": {
    "colab": {
     "base_uri": "https://localhost:8080/"
    },
    "executionInfo": {
     "elapsed": 141,
     "status": "ok",
     "timestamp": 1670278116095,
     "user": {
      "displayName": "Ember Richardson",
      "userId": "05921004582757010193"
     },
     "user_tz": 300
    },
    "id": "fPX9g3ZIUen9",
    "outputId": "24fecd2b-2888-4a6e-8806-972ec1e6c3cf"
   },
   "outputs": [
    {
     "name": "stdout",
     "output_type": "stream",
     "text": [
      "[[ 9.00000000e-01  1.66827734e-01 -1.00000000e+00  8.80000000e+01\n",
      "   5.00000000e+01  2.09251728e-02 -1.33134496e+00             nan\n",
      "   7.69000000e+02  1.06507655e+04  3.13431963e+03  3.86364774e+03\n",
      "   1.00000000e+00  6.00000000e+00             nan  1.85000000e+02\n",
      "   0.00000000e+00             nan  1.00000000e+00  0.00000000e+00\n",
      "   2.40000000e+01  0.00000000e+00  5.00000000e+02  0.00000000e+00\n",
      "              nan  3.88811460e+00             nan  0.00000000e+00\n",
      "   1.00000000e+00  0.00000000e+00  7.00000000e+00]\n",
      " [ 9.00000000e-01  2.96286005e-01 -1.00000000e+00  1.44000000e+02\n",
      "   5.00000000e+01  5.41753833e-03 -8.16223755e-01             nan\n",
      "   3.66000000e+02  5.34047319e+02  2.67091829e+03  3.12429817e+03\n",
      "   7.18000000e+02  3.00000000e+00             nan  2.59000000e+02\n",
      "   1.00000000e+00             nan  0.00000000e+00  0.00000000e+00\n",
      "   1.50000000e+01  0.00000000e+00  1.50000000e+03  0.00000000e+00\n",
      "              nan  3.17988194e+01             nan  0.00000000e+00\n",
      "   1.00000000e+00  0.00000000e+00  7.00000000e+00]]\n"
     ]
    }
   ],
   "source": [
    "print(real_dataset[0:2])"
   ]
  },
  {
   "cell_type": "markdown",
   "metadata": {
    "id": "Guq81mAAGG_L"
   },
   "source": []
  },
  {
   "cell_type": "code",
   "execution_count": null,
   "metadata": {
    "id": "NHTyDJ31HqHb"
   },
   "outputs": [
    {
     "name": "stdout",
     "output_type": "stream",
     "text": [
      "Metal device set to: Apple M1\n"
     ]
    },
    {
     "name": "stderr",
     "output_type": "stream",
     "text": [
      "2022-12-06 18:01:31.502547: I tensorflow/core/common_runtime/pluggable_device/pluggable_device_factory.cc:306] Could not identify NUMA node of platform GPU ID 0, defaulting to 0. Your kernel may not have been built with NUMA support.\n",
      "2022-12-06 18:01:31.502634: I tensorflow/core/common_runtime/pluggable_device/pluggable_device_factory.cc:272] Created TensorFlow device (/job:localhost/replica:0/task:0/device:GPU:0 with 0 MB memory) -> physical PluggableDevice (device: 0, name: METAL, pci bus id: <undefined>)\n"
     ]
    }
   ],
   "source": [
    "#Model old\n",
    "model = keras.Sequential([\n",
    "    keras.layers.Dense(128, activation='relu'),\n",
    "    keras.layers.Dense(2)\n",
    "])"
   ]
  },
  {
   "cell_type": "code",
   "execution_count": null,
   "metadata": {},
   "outputs": [
    {
     "name": "stderr",
     "output_type": "stream",
     "text": [
      "2022-12-06 18:01:31.628887: W tensorflow/core/platform/profile_utils/cpu_utils.cc:128] Failed to get CPU frequency: 0 Hz\n",
      "2022-12-06 18:01:31.825069: I tensorflow/core/grappler/optimizers/custom_graph_optimizer_registry.cc:114] Plugin optimizer for device_type GPU is enabled.\n"
     ]
    },
    {
     "name": "stdout",
     "output_type": "stream",
     "text": [
      "28113/28125 [============================>.] - ETA: 0s - loss: 0.0820 - accuracy: 0.9877"
     ]
    },
    {
     "name": "stderr",
     "output_type": "stream",
     "text": [
      "2022-12-06 18:03:35.081177: I tensorflow/core/grappler/optimizers/custom_graph_optimizer_registry.cc:114] Plugin optimizer for device_type GPU is enabled.\n"
     ]
    },
    {
     "name": "stdout",
     "output_type": "stream",
     "text": [
      "\b\b\b\b\b\b\b\b\b\b\b\b\b\b\b\b\b\b\b\b\b\b\b\b\b\b\b\b\b\b\b\b\b\b\b\b\b\b\b\b\b\b\b\b\b\b\b\b\b\b\b\b\b\b\b\b\b\b\b\b\b\b\b\b\b\b\b\b\b\b\b\b\b\b\b\b\b\b\b\b\b\b\b\b\b\b\b\b\r\n",
      "28125/28125 [==============================] - 131s 5ms/step - loss: 0.0820 - accuracy: 0.9877 - val_loss: 0.0124 - val_accuracy: 1.0000\n"
     ]
    }
   ],
   "source": [
    "#compile\n",
    "model.compile(optimizer='adam',\n",
    "              loss=tf.keras.losses.SparseCategoricalCrossentropy(from_logits=True),\n",
    "              metrics=['accuracy'])\n",
    "#fit\n",
    "history = model.fit(training_dataset, is_fraud_ground_truth_training, epochs=1, validation_split=0.1)"
   ]
  },
  {
   "cell_type": "code",
   "execution_count": null,
   "metadata": {},
   "outputs": [
    {
     "name": "stderr",
     "output_type": "stream",
     "text": [
      "/Users/ember/Library/Python/3.10/lib/python/site-packages/keras/utils/generic_utils.py:993: RuntimeWarning: divide by zero encountered in log10\n",
      "  numdigits = int(np.log10(self.target)) + 1\n"
     ]
    },
    {
     "ename": "OverflowError",
     "evalue": "cannot convert float infinity to integer",
     "output_type": "error",
     "traceback": [
      "\u001b[0;31m---------------------------------------------------------------------------\u001b[0m",
      "\u001b[0;31mOverflowError\u001b[0m                             Traceback (most recent call last)",
      "Cell \u001b[0;32mIn[8], line 1\u001b[0m\n\u001b[0;32m----> 1\u001b[0m history \u001b[38;5;241m=\u001b[39m \u001b[43mmodel\u001b[49m\u001b[38;5;241;43m.\u001b[39;49m\u001b[43mevaluate\u001b[49m\u001b[43m(\u001b[49m\u001b[43mevaluation_dataset\u001b[49m\u001b[43m,\u001b[49m\u001b[43m \u001b[49m\u001b[43mevaluation_dataset_labels\u001b[49m\u001b[43m)\u001b[49m\n",
      "File \u001b[0;32m~/Library/Python/3.10/lib/python/site-packages/keras/utils/traceback_utils.py:70\u001b[0m, in \u001b[0;36mfilter_traceback.<locals>.error_handler\u001b[0;34m(*args, **kwargs)\u001b[0m\n\u001b[1;32m     67\u001b[0m     filtered_tb \u001b[38;5;241m=\u001b[39m _process_traceback_frames(e\u001b[38;5;241m.\u001b[39m__traceback__)\n\u001b[1;32m     68\u001b[0m     \u001b[38;5;66;03m# To get the full stack trace, call:\u001b[39;00m\n\u001b[1;32m     69\u001b[0m     \u001b[38;5;66;03m# `tf.debugging.disable_traceback_filtering()`\u001b[39;00m\n\u001b[0;32m---> 70\u001b[0m     \u001b[38;5;28;01mraise\u001b[39;00m e\u001b[38;5;241m.\u001b[39mwith_traceback(filtered_tb) \u001b[38;5;28;01mfrom\u001b[39;00m \u001b[38;5;28mNone\u001b[39m\n\u001b[1;32m     71\u001b[0m \u001b[38;5;28;01mfinally\u001b[39;00m:\n\u001b[1;32m     72\u001b[0m     \u001b[38;5;28;01mdel\u001b[39;00m filtered_tb\n",
      "File \u001b[0;32m~/Library/Python/3.10/lib/python/site-packages/keras/utils/generic_utils.py:993\u001b[0m, in \u001b[0;36mProgbar.update\u001b[0;34m(self, current, values, finalize)\u001b[0m\n\u001b[1;32m    990\u001b[0m     message \u001b[38;5;241m+\u001b[39m\u001b[38;5;241m=\u001b[39m \u001b[38;5;124m\"\u001b[39m\u001b[38;5;130;01m\\n\u001b[39;00m\u001b[38;5;124m\"\u001b[39m\n\u001b[1;32m    992\u001b[0m \u001b[38;5;28;01mif\u001b[39;00m \u001b[38;5;28mself\u001b[39m\u001b[38;5;241m.\u001b[39mtarget \u001b[38;5;129;01mis\u001b[39;00m \u001b[38;5;129;01mnot\u001b[39;00m \u001b[38;5;28;01mNone\u001b[39;00m:\n\u001b[0;32m--> 993\u001b[0m     numdigits \u001b[38;5;241m=\u001b[39m \u001b[38;5;28;43mint\u001b[39;49m\u001b[43m(\u001b[49m\u001b[43mnp\u001b[49m\u001b[38;5;241;43m.\u001b[39;49m\u001b[43mlog10\u001b[49m\u001b[43m(\u001b[49m\u001b[38;5;28;43mself\u001b[39;49m\u001b[38;5;241;43m.\u001b[39;49m\u001b[43mtarget\u001b[49m\u001b[43m)\u001b[49m\u001b[43m)\u001b[49m \u001b[38;5;241m+\u001b[39m \u001b[38;5;241m1\u001b[39m\n\u001b[1;32m    994\u001b[0m     bar \u001b[38;5;241m=\u001b[39m (\u001b[38;5;124m\"\u001b[39m\u001b[38;5;124m%\u001b[39m\u001b[38;5;124m\"\u001b[39m \u001b[38;5;241m+\u001b[39m \u001b[38;5;28mstr\u001b[39m(numdigits) \u001b[38;5;241m+\u001b[39m \u001b[38;5;124m\"\u001b[39m\u001b[38;5;124md/\u001b[39m\u001b[38;5;132;01m%d\u001b[39;00m\u001b[38;5;124m [\u001b[39m\u001b[38;5;124m\"\u001b[39m) \u001b[38;5;241m%\u001b[39m (current, \u001b[38;5;28mself\u001b[39m\u001b[38;5;241m.\u001b[39mtarget)\n\u001b[1;32m    995\u001b[0m     prog \u001b[38;5;241m=\u001b[39m \u001b[38;5;28mfloat\u001b[39m(current) \u001b[38;5;241m/\u001b[39m \u001b[38;5;28mself\u001b[39m\u001b[38;5;241m.\u001b[39mtarget\n",
      "\u001b[0;31mOverflowError\u001b[0m: cannot convert float infinity to integer"
     ]
    }
   ],
   "source": [
    "history = model.evaluate(evaluation_dataset, evaluation_dataset_labels)"
   ]
  }
 ],
 "metadata": {
  "colab": {
   "provenance": []
  },
  "kernelspec": {
   "display_name": "Python 3 (ipykernel)",
   "language": "python",
   "name": "python3"
  },
  "language_info": {
   "codemirror_mode": {
    "name": "ipython",
    "version": 3
   },
   "file_extension": ".py",
   "mimetype": "text/x-python",
   "name": "python",
   "nbconvert_exporter": "python",
   "pygments_lexer": "ipython3",
   "version": "3.10.9"
  },
  "vscode": {
   "interpreter": {
    "hash": "953950e288e61d2215999b44f1cd7e7376d75fb4026773cb9dc56d843991790d"
   }
  }
 },
 "nbformat": 4,
 "nbformat_minor": 1
}
