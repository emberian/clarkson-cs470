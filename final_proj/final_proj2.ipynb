{
 "cells": [
  {
   "cell_type": "code",
   "execution_count": 1,
   "metadata": {
    "colab": {
     "base_uri": "https://localhost:8080/"
    },
    "executionInfo": {
     "elapsed": 3133,
     "status": "ok",
     "timestamp": 1670274700839,
     "user": {
      "displayName": "Ember Richardson",
      "userId": "05921004582757010193"
     },
     "user_tz": 300
    },
    "id": "ie76vEKeBDAv",
    "outputId": "fc494b1a-0a09-4678-c862-cbda099ec881"
   },
   "outputs": [],
   "source": [
    "# imports\n",
    "import os\n",
    "import math\n",
    "import tensorflow as tf\n",
    "from tensorflow import keras\n",
    "import numpy as np\n",
    "from numpy import genfromtxt\n",
    "from numpy.lib import recfunctions as rfn\n",
    "#print(tf.__version__)"
   ]
  },
  {
   "cell_type": "code",
   "execution_count": 2,
   "metadata": {
    "colab": {
     "base_uri": "https://localhost:8080/"
    },
    "executionInfo": {
     "elapsed": 33891,
     "status": "ok",
     "timestamp": 1670278532791,
     "user": {
      "displayName": "Ember Richardson",
      "userId": "05921004582757010193"
     },
     "user_tz": 300
    },
    "id": "f4fttJacDzEe",
    "outputId": "358931ee-e096-43c0-8512-e3f65aaa1a4d"
   },
   "outputs": [
    {
     "name": "stdout",
     "output_type": "stream",
     "text": [
      "Example row: (True, 0.9, 0.1669, -1, 88, 50, 0.02092, -1.331, 1, 769, 10650.766, 3134.3196, 3863.6477, 1, 6, 1, 185, 0, 1, 1, 0, 24, 0, 500., 0, 1, 3.8881147, 1, 0, 1, 0, 7) : <class 'numpy.void'>\n",
      "Computed type of elements: [('fraud_bool', '?'), ('income', '<f4'), ('name_email_similarity', '<f2'), ('prev_address_months_count', '<i2'), ('current_address_months_count', '<i2'), ('customer_age', 'u1'), ('days_since_request', '<f2'), ('intended_balcon_amount', '<f2'), ('payment_type', 'u1'), ('zip_count_4w', '<u2'), ('velocity_6h', '<f4'), ('velocity_24h', '<f4'), ('velocity_4w', '<f4'), ('bank_branch_count_8w', '<u2'), ('date_of_birth_distinct_emails_4w', 'u1'), ('employment_status', '<u2'), ('credit_risk_score', '<i2'), ('email_is_free', 'u1'), ('housing_status', 'u1'), ('phone_home_valid', 'u1'), ('phone_mobile_valid', 'u1'), ('bank_months_count', 'i1'), ('has_other_cards', 'u1'), ('proposed_credit_limit', '<f2'), ('foreign_request', 'u1'), ('source', 'u1'), ('session_length_in_minutes', '<f4'), ('device_os', 'u1'), ('keep_alive_session', 'u1'), ('device_distinct_emails_8w', 'i1'), ('device_fraud_count', 'u1'), ('month', 'u1')]\n",
      "Same row but unparsed, does it match? 1,0.9,0.16682773442433269,-1,88,50,0.02092517283659475,-1.3313449634902534,AA,769,10650.765522770173,3134.319630490106,3863.647739528353,1,6,CA,185,0,BA,1,0,24,0,500.0,0,INTERNET,3.8881146047890933,windows,0,1,0,7)\n",
      "No issues found with datatype!\n"
     ]
    }
   ],
   "source": [
    "# data\n",
    "dtypes = {\n",
    "    'fraud_bool': '?',\n",
    "    'income': 'f4',\n",
    "    'name_email_similarity': 'f2',\n",
    "    'prev_address_months_count': 'i2',\n",
    "    'current_address_months_count': 'i2',\n",
    "    'customer_age': 'u1',\n",
    "    'days_since_request': 'f2',\n",
    "    'intended_balcon_amount': 'f2',\n",
    "    'payment_type': 'u1', # STR\n",
    "    'zip_count_4w': 'u2',\n",
    "    'velocity_6h': 'f4',\n",
    "    'velocity_24h': 'f4',\n",
    "    'velocity_4w': 'f4',\n",
    "    'bank_branch_count_8w': 'u2',\n",
    "    'date_of_birth_distinct_emails_4w': 'u1',\n",
    "    'employment_status': 'u2',\n",
    "    'credit_risk_score': 'i2',\n",
    "    'email_is_free': 'u1',\n",
    "    'housing_status': 'u1', # STR\n",
    "    'phone_home_valid': 'u1',\n",
    "    'phone_mobile_valid': 'u1',\n",
    "    'bank_months_count': 'i1',\n",
    "    'has_other_cards': 'u1',\n",
    "    'proposed_credit_limit':\n",
    "    'f2', 'foreign_request': 'u1',\n",
    "    'source': 'u1', # STR\n",
    "    'session_length_in_minutes': 'f4',\n",
    "    'device_os': 'u1', # STR\n",
    "    'keep_alive_session': 'u1',\n",
    "    'device_distinct_emails_8w': 'i1',\n",
    "    'device_fraud_count': 'u1',\n",
    "    'month': 'u1'}\n",
    "\n",
    "def strconv(cat):\n",
    "    \"\"\"Returns a function that maps its input string to the same small number each time.\"\"\"\n",
    "    seen = {}\n",
    "    def inner(s):\n",
    "        nonlocal seen\n",
    "        if s not in seen:\n",
    "            seen[s] = len(seen)\n",
    "        return seen[s]\n",
    "    return inner\n",
    "\n",
    "strconvs = {\n",
    "    'source': strconv(\"source\"),\n",
    "    'device_os': strconv(\"device_os\"),\n",
    "    'housing_status': strconv(\"housing_status\"),\n",
    "    'payment_type': strconv(\"payment_type\"),\n",
    "    'employment_status': strconv(\"employment_status\")\n",
    "}\n",
    "\n",
    "column_labels = list(next(open('Base.csv')).strip().split(','))\n",
    "converters = {0: lambda s: bool(int(s))}\n",
    "for k, v in strconvs.items():\n",
    "    converters[column_labels.index(k)] = v\n",
    "rawdata = genfromtxt('Base.csv', dtype=[dtypes[n] for n in column_labels],\n",
    "                  names=column_labels, delimiter=',', converters=converters)[1:] # skip header\n",
    "txtdata = list(open('Base.csv').read().split('\\n'))[1:]\n",
    "print(f'Example row: {rawdata[0]} : {type(rawdata[0])}')\n",
    "print(f'Computed type of elements: {rawdata.dtype}')\n",
    "print(f'Same row but unparsed, does it match? {txtdata[0]})')\n",
    "issue = False\n",
    "anyissue = False\n",
    "for rowix, (txtrow, rawrow) in enumerate(zip(txtdata, rawdata)):\n",
    "    if not (rawrow[0] == 0 or rawrow[0] == 1):\n",
    "        print(f'WARN: fraud_bool for row {rowix} is {rawrow[0]}, not 0 or 1!')\n",
    "        anyissue = True\n",
    "\n",
    "    for ix, c in enumerate(rawrow):\n",
    "        if ix == 4 and c == 65535:\n",
    "            continue # this is the one column where -1 as missing is OK\n",
    "        if type(c) != np.str_ and np.isnan(c):\n",
    "            print(f'{rawrow} has a nan at {ix}!')\n",
    "        elif np.issubdtype(type(c), np.integer):\n",
    "            info = np.iinfo(type(c))\n",
    "            if (c == info.min or c == info.max) and c!=0:\n",
    "                issue = True\n",
    "                print(f'WARN: column {ix} row {rowix} ({column_labels[ix]}) has maxed out the irange of {type(c)}!')\n",
    "        elif np.issubdtype(type(c), np.floating):\n",
    "            info = np.finfo(type(c))\n",
    "            if c == info.min or c == info.max:\n",
    "                issue = True\n",
    "                print(f'WARN: column {ix} row {rowix} ({column_labels[ix]}) has maxed out the frange of {type(c)}!')\n",
    "    if issue:\n",
    "        print(f'row was: {rawrow}')\n",
    "        print(f'source data was: {txtrow}')\n",
    "        anyissue = True\n",
    "        issue = False\n",
    "else:\n",
    "    if not anyissue:\n",
    "        print('No issues found with datatype!')\n",
    "    else:\n",
    "        print('Issues found with datatype! Look closely!')\n",
    "data = rfn.structured_to_unstructured(rawdata, dtype=np.float32)"
   ]
  },
  {
   "cell_type": "markdown",
   "metadata": {},
   "source": [
    "Now that we've parsed the data and verified some basic properties about it, we are ready to further process it into a useful form. First, we will min-max normalize the data:"
   ]
  },
  {
   "cell_type": "code",
   "execution_count": 3,
   "metadata": {},
   "outputs": [],
   "source": [
    "# min-max normalize each column\n",
    "\n",
    "# TODO"
   ]
  },
  {
   "cell_type": "code",
   "execution_count": 4,
   "metadata": {},
   "outputs": [],
   "source": [
    "is_fraud_ground_truth = np.int_(data[:,:1])\n",
    "real_dataset = data[:,1:]  # skip the fraud bool\n",
    "#np.array([np.array(row)[1:] for row in rawdata]) # skip the fraud bool\n",
    "training_size = math.floor(len(real_dataset)*.2)\n",
    "training_dataset = real_dataset[:training_size]\n",
    "evaluation_dataset = real_dataset[training_size:]\n",
    "evaluation_dataset_labels = is_fraud_ground_truth[training_size:]\n",
    "is_fraud_ground_truth_training = is_fraud_ground_truth[:training_size]\n"
   ]
  },
  {
   "cell_type": "code",
   "execution_count": 5,
   "metadata": {
    "colab": {
     "base_uri": "https://localhost:8080/"
    },
    "executionInfo": {
     "elapsed": 144,
     "status": "ok",
     "timestamp": 1670278573430,
     "user": {
      "displayName": "Ember Richardson",
      "userId": "05921004582757010193"
     },
     "user_tz": 300
    },
    "id": "PTh3HkUEUfCM",
    "outputId": "f4f08497-159a-49f9-8e07-79608675b5c5"
   },
   "outputs": [
    {
     "name": "stdout",
     "output_type": "stream",
     "text": [
      "<class 'numpy.ndarray'>\n",
      "<class 'numpy.dtype[int64]'>\n",
      "(1000000, 1)\n",
      "<class 'numpy.ndarray'>\n",
      "<class 'numpy.dtype[int64]'>\n",
      "(200000, 1)\n",
      "[[ 8.9999998e-01  1.5954590e-01 -1.0000000e+00  2.2000000e+01\n",
      "   5.0000000e+01  1.9073486e-02 -1.2050781e+00  2.0000000e+00\n",
      "   8.1000000e+02  3.4570640e+03  4.0549084e+03  3.0222617e+03\n",
      "   1.9210000e+03  6.0000000e+00  1.0000000e+00  1.1000000e+02\n",
      "   1.0000000e+00  1.0000000e+00  0.0000000e+00  1.0000000e+00\n",
      "   3.1000000e+01  1.0000000e+00  2.0000000e+02  0.0000000e+00\n",
      "   1.0000000e+00  2.0479045e+00  3.0000000e+00  0.0000000e+00\n",
      "   1.0000000e+00  0.0000000e+00  7.0000000e+00]\n",
      " [ 8.9999998e-01  5.9619141e-01 -1.0000000e+00  2.1800000e+02\n",
      "   5.0000000e+01  4.4403076e-03 -7.7343750e-01  2.0000000e+00\n",
      "   8.9000000e+02  5.0203418e+03  2.7282371e+03  3.0876709e+03\n",
      "   1.9900000e+03  2.0000000e+00  1.0000000e+00  2.9500000e+02\n",
      "   1.0000000e+00  1.0000000e+00  1.0000000e+00  0.0000000e+00\n",
      "   3.1000000e+01  0.0000000e+00  1.5000000e+03  0.0000000e+00\n",
      "   1.0000000e+00  3.7752249e+00  4.0000000e+00  1.0000000e+00\n",
      "   1.0000000e+00  0.0000000e+00  7.0000000e+00]\n",
      " [ 3.0000001e-01  1.4392090e-01 -1.0000000e+00  3.0000000e+01\n",
      "   3.0000000e+01  2.8228760e-02 -7.4804688e-01  4.0000000e+00\n",
      "   7.3200000e+02  3.2232483e+03  3.8048035e+03  5.0786924e+03\n",
      "   5.0000000e+00  1.3000000e+01  1.0000000e+00  1.9900000e+02\n",
      "   1.0000000e+00  2.0000000e+00  0.0000000e+00  1.0000000e+00\n",
      "   1.5000000e+01  0.0000000e+00  2.0000000e+02  0.0000000e+00\n",
      "   1.0000000e+00  4.8150730e+00  1.0000000e+00  0.0000000e+00\n",
      "   1.0000000e+00  0.0000000e+00  7.0000000e+00]\n",
      " [ 6.9999999e-01  3.2153320e-01 -1.0000000e+00  1.5200000e+02\n",
      "   3.0000000e+01  3.0685425e-02 -2.7905273e-01  2.0000000e+00\n",
      "   8.7600000e+02  5.5157715e+03  2.6534299e+03  3.0897883e+03\n",
      "   1.3000000e+01  1.0000000e+01  1.0000000e+00  2.7200000e+02\n",
      "   1.0000000e+00  1.0000000e+00  1.0000000e+00  1.0000000e+00\n",
      "   3.0000000e+01  0.0000000e+00  1.5000000e+03  0.0000000e+00\n",
      "   1.0000000e+00  1.5589775e+00  1.0000000e+00  1.0000000e+00\n",
      "   1.0000000e+00  0.0000000e+00  7.0000000e+00]\n",
      " [ 8.9999998e-01  6.4819336e-02 -1.0000000e+00  1.8000000e+01\n",
      "   5.0000000e+01  3.4545898e-02 -1.2656250e+00  2.0000000e+00\n",
      "   9.0100000e+02  4.7362144e+03  6.7337041e+03  3.8261292e+03\n",
      "   4.0000000e+01  1.0000000e+00  2.0000000e+00  8.3000000e+01\n",
      "   1.0000000e+00  2.0000000e+00  1.0000000e+00  0.0000000e+00\n",
      "   2.8000000e+01  0.0000000e+00  2.0000000e+02  1.0000000e+00\n",
      "   1.0000000e+00  2.6374717e+00  3.0000000e+00  0.0000000e+00\n",
      "   1.0000000e+00  0.0000000e+00  7.0000000e+00]\n",
      " [ 6.9999999e-01  6.5917969e-02 -1.0000000e+00  6.4000000e+01\n",
      "   4.0000000e+01  2.0690918e-02 -1.4423828e+00  2.0000000e+00\n",
      "   9.3300000e+02  6.1012505e+03  3.8497615e+03  3.0892712e+03\n",
      "   2.1340000e+03  4.0000000e+00  3.0000000e+00  2.2200000e+02\n",
      "   0.0000000e+00  1.0000000e+00  1.0000000e+00  1.0000000e+00\n",
      "   3.0000000e+01  0.0000000e+00  1.5000000e+03  0.0000000e+00\n",
      "   1.0000000e+00  2.1754193e+00  1.0000000e+00  1.0000000e+00\n",
      "   1.0000000e+00  0.0000000e+00  7.0000000e+00]\n",
      " [ 8.9999998e-01  7.0019531e-01 -1.0000000e+00  6.0000000e+01\n",
      "   4.0000000e+01  1.6815186e-02 -1.0703125e+00  2.0000000e+00\n",
      "   1.1760000e+03  4.5044702e+03  3.7938318e+03  3.0612458e+03\n",
      "   8.0000000e+00  2.0000000e+00  2.0000000e+00  1.1800000e+02\n",
      "   1.0000000e+00  3.0000000e+00  0.0000000e+00  1.0000000e+00\n",
      "   2.5000000e+01  0.0000000e+00  2.0000000e+02  0.0000000e+00\n",
      "   1.0000000e+00  2.4040726e+01  1.0000000e+00  0.0000000e+00\n",
      "   1.0000000e+00  0.0000000e+00  7.0000000e+00]]\n",
      "<class 'numpy.ndarray'>\n",
      "<class 'numpy.dtype[float32]'>\n",
      "(200000, 31)\n"
     ]
    }
   ],
   "source": [
    "def dbg_ndarray(val):\n",
    "    print(type(val))\n",
    "    print(type(val.dtype))\n",
    "    print(val.shape)\n",
    "dbg_ndarray(is_fraud_ground_truth)\n",
    "dbg_ndarray(is_fraud_ground_truth_training)\n",
    "print(training_dataset[3:10])\n",
    "dbg_ndarray(training_dataset)"
   ]
  },
  {
   "cell_type": "code",
   "execution_count": 6,
   "metadata": {
    "colab": {
     "base_uri": "https://localhost:8080/"
    },
    "executionInfo": {
     "elapsed": 141,
     "status": "ok",
     "timestamp": 1670278116095,
     "user": {
      "displayName": "Ember Richardson",
      "userId": "05921004582757010193"
     },
     "user_tz": 300
    },
    "id": "fPX9g3ZIUen9",
    "outputId": "24fecd2b-2888-4a6e-8806-972ec1e6c3cf"
   },
   "outputs": [
    {
     "name": "stdout",
     "output_type": "stream",
     "text": [
      "[[ 8.9999998e-01  1.6687012e-01 -1.0000000e+00  8.8000000e+01\n",
      "   5.0000000e+01  2.0919800e-02 -1.3310547e+00  1.0000000e+00\n",
      "   7.6900000e+02  1.0650766e+04  3.1343196e+03  3.8636477e+03\n",
      "   1.0000000e+00  6.0000000e+00  1.0000000e+00  1.8500000e+02\n",
      "   0.0000000e+00  1.0000000e+00  1.0000000e+00  0.0000000e+00\n",
      "   2.4000000e+01  0.0000000e+00  5.0000000e+02  0.0000000e+00\n",
      "   1.0000000e+00  3.8881147e+00  1.0000000e+00  0.0000000e+00\n",
      "   1.0000000e+00  0.0000000e+00  7.0000000e+00]\n",
      " [ 8.9999998e-01  2.9638672e-01 -1.0000000e+00  1.4400000e+02\n",
      "   5.0000000e+01  5.4168701e-03 -8.1640625e-01  2.0000000e+00\n",
      "   3.6600000e+02  5.3404730e+02  2.6709182e+03  3.1242981e+03\n",
      "   7.1800000e+02  3.0000000e+00  1.0000000e+00  2.5900000e+02\n",
      "   1.0000000e+00  1.0000000e+00  0.0000000e+00  0.0000000e+00\n",
      "   1.5000000e+01  0.0000000e+00  1.5000000e+03  0.0000000e+00\n",
      "   1.0000000e+00  3.1798819e+01  1.0000000e+00  0.0000000e+00\n",
      "   1.0000000e+00  0.0000000e+00  7.0000000e+00]]\n"
     ]
    }
   ],
   "source": [
    "print(real_dataset[0:2])"
   ]
  },
  {
   "cell_type": "markdown",
   "metadata": {
    "id": "Guq81mAAGG_L"
   },
   "source": []
  },
  {
   "cell_type": "code",
   "execution_count": 7,
   "metadata": {
    "id": "NHTyDJ31HqHb"
   },
   "outputs": [
    {
     "name": "stdout",
     "output_type": "stream",
     "text": [
      "Metal device set to: Apple M1\n",
      "\n",
      "systemMemory: 16.00 GB\n",
      "maxCacheSize: 5.33 GB\n",
      "\n"
     ]
    },
    {
     "name": "stderr",
     "output_type": "stream",
     "text": [
      "2022-12-11 09:58:40.797842: I tensorflow/core/common_runtime/pluggable_device/pluggable_device_factory.cc:306] Could not identify NUMA node of platform GPU ID 0, defaulting to 0. Your kernel may not have been built with NUMA support.\n",
      "2022-12-11 09:58:40.798015: I tensorflow/core/common_runtime/pluggable_device/pluggable_device_factory.cc:272] Created TensorFlow device (/job:localhost/replica:0/task:0/device:GPU:0 with 0 MB memory) -> physical PluggableDevice (device: 0, name: METAL, pci bus id: <undefined>)\n"
     ]
    }
   ],
   "source": [
    "#Model old\n",
    "model: keras.Model = keras.Sequential([\n",
    "    keras.layers.Dense((32**2) * 4, activation='relu'),\n",
    "    keras.layers.Dense((32**2) * 2, activation='relu'),\n",
    "    keras.layers.Dense(32**2, activation='relu'),\n",
    "    keras.layers.Dense((32**2)/4, activation='relu'),\n",
    "\n",
    "    keras.layers.Dense(1)\n",
    "])"
   ]
  },
  {
   "cell_type": "code",
   "execution_count": 8,
   "metadata": {},
   "outputs": [],
   "source": [
    "#compile\n",
    "model.compile(optimizer='adam',\n",
    "              loss=tf.keras.losses.BinaryCrossentropy(),\n",
    "              metrics=['accuracy'])\n"
   ]
  },
  {
   "cell_type": "code",
   "execution_count": 9,
   "metadata": {},
   "outputs": [
    {
     "name": "stdout",
     "output_type": "stream",
     "text": [
      "Epoch 1/3\n"
     ]
    },
    {
     "name": "stderr",
     "output_type": "stream",
     "text": [
      "2022-12-11 09:58:40.946215: W tensorflow/core/platform/profile_utils/cpu_utils.cc:128] Failed to get CPU frequency: 0 Hz\n",
      "2022-12-11 09:58:41.298225: I tensorflow/core/grappler/optimizers/custom_graph_optimizer_registry.cc:114] Plugin optimizer for device_type GPU is enabled.\n"
     ]
    },
    {
     "name": "stdout",
     "output_type": "stream",
     "text": [
      "5623/5625 [============================>.] - ETA: 0s - loss: 0.2436 - accuracy: 0.9842"
     ]
    },
    {
     "name": "stderr",
     "output_type": "stream",
     "text": [
      "2022-12-11 10:00:19.100127: I tensorflow/core/grappler/optimizers/custom_graph_optimizer_registry.cc:114] Plugin optimizer for device_type GPU is enabled.\n"
     ]
    },
    {
     "name": "stdout",
     "output_type": "stream",
     "text": [
      "5625/5625 [==============================] - 100s 18ms/step - loss: 0.2436 - accuracy: 0.9842 - val_loss: 0.0000e+00 - val_accuracy: 1.0000\n",
      "Epoch 2/3\n",
      "1136/5625 [=====>........................] - ETA: 1:20 - loss: 0.2440 - accuracy: 0.9842"
     ]
    }
   ],
   "source": [
    "#fit\n",
    "history = model.fit(x=training_dataset, y=is_fraud_ground_truth_training, epochs=3, validation_split=0.1)"
   ]
  },
  {
   "cell_type": "code",
   "execution_count": null,
   "metadata": {},
   "outputs": [
    {
     "name": "stdout",
     "output_type": "stream",
     "text": [
      "15749/25000 [=================>............] - ETA: 36s - loss: 0.1636 - accuracy: 0.9894"
     ]
    },
    {
     "ename": "KeyboardInterrupt",
     "evalue": "",
     "output_type": "error",
     "traceback": [
      "\u001b[0;31m---------------------------------------------------------------------------\u001b[0m",
      "\u001b[0;31mKeyboardInterrupt\u001b[0m                         Traceback (most recent call last)",
      "Cell \u001b[0;32mIn[102], line 1\u001b[0m\n\u001b[0;32m----> 1\u001b[0m history \u001b[39m=\u001b[39m model\u001b[39m.\u001b[39;49mevaluate(evaluation_dataset, evaluation_dataset_labels)\n",
      "File \u001b[0;32m~/Library/Python/3.10/lib/python/site-packages/keras/utils/traceback_utils.py:65\u001b[0m, in \u001b[0;36mfilter_traceback.<locals>.error_handler\u001b[0;34m(*args, **kwargs)\u001b[0m\n\u001b[1;32m     63\u001b[0m filtered_tb \u001b[39m=\u001b[39m \u001b[39mNone\u001b[39;00m\n\u001b[1;32m     64\u001b[0m \u001b[39mtry\u001b[39;00m:\n\u001b[0;32m---> 65\u001b[0m     \u001b[39mreturn\u001b[39;00m fn(\u001b[39m*\u001b[39;49margs, \u001b[39m*\u001b[39;49m\u001b[39m*\u001b[39;49mkwargs)\n\u001b[1;32m     66\u001b[0m \u001b[39mexcept\u001b[39;00m \u001b[39mException\u001b[39;00m \u001b[39mas\u001b[39;00m e:\n\u001b[1;32m     67\u001b[0m     filtered_tb \u001b[39m=\u001b[39m _process_traceback_frames(e\u001b[39m.\u001b[39m__traceback__)\n",
      "File \u001b[0;32m~/Library/Python/3.10/lib/python/site-packages/keras/engine/training.py:1947\u001b[0m, in \u001b[0;36mModel.evaluate\u001b[0;34m(self, x, y, batch_size, verbose, sample_weight, steps, callbacks, max_queue_size, workers, use_multiprocessing, return_dict, **kwargs)\u001b[0m\n\u001b[1;32m   1943\u001b[0m \u001b[39mwith\u001b[39;00m tf\u001b[39m.\u001b[39mprofiler\u001b[39m.\u001b[39mexperimental\u001b[39m.\u001b[39mTrace(\n\u001b[1;32m   1944\u001b[0m     \u001b[39m\"\u001b[39m\u001b[39mtest\u001b[39m\u001b[39m\"\u001b[39m, step_num\u001b[39m=\u001b[39mstep, _r\u001b[39m=\u001b[39m\u001b[39m1\u001b[39m\n\u001b[1;32m   1945\u001b[0m ):\n\u001b[1;32m   1946\u001b[0m     callbacks\u001b[39m.\u001b[39mon_test_batch_begin(step)\n\u001b[0;32m-> 1947\u001b[0m     tmp_logs \u001b[39m=\u001b[39m \u001b[39mself\u001b[39;49m\u001b[39m.\u001b[39;49mtest_function(iterator)\n\u001b[1;32m   1948\u001b[0m     \u001b[39mif\u001b[39;00m data_handler\u001b[39m.\u001b[39mshould_sync:\n\u001b[1;32m   1949\u001b[0m         context\u001b[39m.\u001b[39masync_wait()\n",
      "File \u001b[0;32m~/Library/Python/3.10/lib/python/site-packages/tensorflow/python/util/traceback_utils.py:150\u001b[0m, in \u001b[0;36mfilter_traceback.<locals>.error_handler\u001b[0;34m(*args, **kwargs)\u001b[0m\n\u001b[1;32m    148\u001b[0m filtered_tb \u001b[39m=\u001b[39m \u001b[39mNone\u001b[39;00m\n\u001b[1;32m    149\u001b[0m \u001b[39mtry\u001b[39;00m:\n\u001b[0;32m--> 150\u001b[0m   \u001b[39mreturn\u001b[39;00m fn(\u001b[39m*\u001b[39;49margs, \u001b[39m*\u001b[39;49m\u001b[39m*\u001b[39;49mkwargs)\n\u001b[1;32m    151\u001b[0m \u001b[39mexcept\u001b[39;00m \u001b[39mException\u001b[39;00m \u001b[39mas\u001b[39;00m e:\n\u001b[1;32m    152\u001b[0m   filtered_tb \u001b[39m=\u001b[39m _process_traceback_frames(e\u001b[39m.\u001b[39m__traceback__)\n",
      "File \u001b[0;32m~/Library/Python/3.10/lib/python/site-packages/tensorflow/python/eager/def_function.py:915\u001b[0m, in \u001b[0;36mFunction.__call__\u001b[0;34m(self, *args, **kwds)\u001b[0m\n\u001b[1;32m    912\u001b[0m compiler \u001b[39m=\u001b[39m \u001b[39m\"\u001b[39m\u001b[39mxla\u001b[39m\u001b[39m\"\u001b[39m \u001b[39mif\u001b[39;00m \u001b[39mself\u001b[39m\u001b[39m.\u001b[39m_jit_compile \u001b[39melse\u001b[39;00m \u001b[39m\"\u001b[39m\u001b[39mnonXla\u001b[39m\u001b[39m\"\u001b[39m\n\u001b[1;32m    914\u001b[0m \u001b[39mwith\u001b[39;00m OptionalXlaContext(\u001b[39mself\u001b[39m\u001b[39m.\u001b[39m_jit_compile):\n\u001b[0;32m--> 915\u001b[0m   result \u001b[39m=\u001b[39m \u001b[39mself\u001b[39;49m\u001b[39m.\u001b[39;49m_call(\u001b[39m*\u001b[39;49margs, \u001b[39m*\u001b[39;49m\u001b[39m*\u001b[39;49mkwds)\n\u001b[1;32m    917\u001b[0m new_tracing_count \u001b[39m=\u001b[39m \u001b[39mself\u001b[39m\u001b[39m.\u001b[39mexperimental_get_tracing_count()\n\u001b[1;32m    918\u001b[0m without_tracing \u001b[39m=\u001b[39m (tracing_count \u001b[39m==\u001b[39m new_tracing_count)\n",
      "File \u001b[0;32m~/Library/Python/3.10/lib/python/site-packages/tensorflow/python/eager/def_function.py:954\u001b[0m, in \u001b[0;36mFunction._call\u001b[0;34m(self, *args, **kwds)\u001b[0m\n\u001b[1;32m    951\u001b[0m \u001b[39mself\u001b[39m\u001b[39m.\u001b[39m_lock\u001b[39m.\u001b[39mrelease()\n\u001b[1;32m    952\u001b[0m \u001b[39m# In this case we have not created variables on the first call. So we can\u001b[39;00m\n\u001b[1;32m    953\u001b[0m \u001b[39m# run the first trace but we should fail if variables are created.\u001b[39;00m\n\u001b[0;32m--> 954\u001b[0m results \u001b[39m=\u001b[39m \u001b[39mself\u001b[39;49m\u001b[39m.\u001b[39;49m_stateful_fn(\u001b[39m*\u001b[39;49margs, \u001b[39m*\u001b[39;49m\u001b[39m*\u001b[39;49mkwds)\n\u001b[1;32m    955\u001b[0m \u001b[39mif\u001b[39;00m \u001b[39mself\u001b[39m\u001b[39m.\u001b[39m_created_variables \u001b[39mand\u001b[39;00m \u001b[39mnot\u001b[39;00m ALLOW_DYNAMIC_VARIABLE_CREATION:\n\u001b[1;32m    956\u001b[0m   \u001b[39mraise\u001b[39;00m \u001b[39mValueError\u001b[39;00m(\u001b[39m\"\u001b[39m\u001b[39mCreating variables on a non-first call to a function\u001b[39m\u001b[39m\"\u001b[39m\n\u001b[1;32m    957\u001b[0m                    \u001b[39m\"\u001b[39m\u001b[39m decorated with tf.function.\u001b[39m\u001b[39m\"\u001b[39m)\n",
      "File \u001b[0;32m~/Library/Python/3.10/lib/python/site-packages/tensorflow/python/eager/function.py:2496\u001b[0m, in \u001b[0;36mFunction.__call__\u001b[0;34m(self, *args, **kwargs)\u001b[0m\n\u001b[1;32m   2493\u001b[0m \u001b[39mwith\u001b[39;00m \u001b[39mself\u001b[39m\u001b[39m.\u001b[39m_lock:\n\u001b[1;32m   2494\u001b[0m   (graph_function,\n\u001b[1;32m   2495\u001b[0m    filtered_flat_args) \u001b[39m=\u001b[39m \u001b[39mself\u001b[39m\u001b[39m.\u001b[39m_maybe_define_function(args, kwargs)\n\u001b[0;32m-> 2496\u001b[0m \u001b[39mreturn\u001b[39;00m graph_function\u001b[39m.\u001b[39;49m_call_flat(\n\u001b[1;32m   2497\u001b[0m     filtered_flat_args, captured_inputs\u001b[39m=\u001b[39;49mgraph_function\u001b[39m.\u001b[39;49mcaptured_inputs)\n",
      "File \u001b[0;32m~/Library/Python/3.10/lib/python/site-packages/tensorflow/python/eager/function.py:1862\u001b[0m, in \u001b[0;36mConcreteFunction._call_flat\u001b[0;34m(self, args, captured_inputs, cancellation_manager)\u001b[0m\n\u001b[1;32m   1858\u001b[0m possible_gradient_type \u001b[39m=\u001b[39m gradients_util\u001b[39m.\u001b[39mPossibleTapeGradientTypes(args)\n\u001b[1;32m   1859\u001b[0m \u001b[39mif\u001b[39;00m (possible_gradient_type \u001b[39m==\u001b[39m gradients_util\u001b[39m.\u001b[39mPOSSIBLE_GRADIENT_TYPES_NONE\n\u001b[1;32m   1860\u001b[0m     \u001b[39mand\u001b[39;00m executing_eagerly):\n\u001b[1;32m   1861\u001b[0m   \u001b[39m# No tape is watching; skip to running the function.\u001b[39;00m\n\u001b[0;32m-> 1862\u001b[0m   \u001b[39mreturn\u001b[39;00m \u001b[39mself\u001b[39m\u001b[39m.\u001b[39m_build_call_outputs(\u001b[39mself\u001b[39;49m\u001b[39m.\u001b[39;49m_inference_function\u001b[39m.\u001b[39;49mcall(\n\u001b[1;32m   1863\u001b[0m       ctx, args, cancellation_manager\u001b[39m=\u001b[39;49mcancellation_manager))\n\u001b[1;32m   1864\u001b[0m forward_backward \u001b[39m=\u001b[39m \u001b[39mself\u001b[39m\u001b[39m.\u001b[39m_select_forward_and_backward_functions(\n\u001b[1;32m   1865\u001b[0m     args,\n\u001b[1;32m   1866\u001b[0m     possible_gradient_type,\n\u001b[1;32m   1867\u001b[0m     executing_eagerly)\n\u001b[1;32m   1868\u001b[0m forward_function, args_with_tangents \u001b[39m=\u001b[39m forward_backward\u001b[39m.\u001b[39mforward()\n",
      "File \u001b[0;32m~/Library/Python/3.10/lib/python/site-packages/tensorflow/python/eager/function.py:499\u001b[0m, in \u001b[0;36m_EagerDefinedFunction.call\u001b[0;34m(self, ctx, args, cancellation_manager)\u001b[0m\n\u001b[1;32m    497\u001b[0m \u001b[39mwith\u001b[39;00m _InterpolateFunctionError(\u001b[39mself\u001b[39m):\n\u001b[1;32m    498\u001b[0m   \u001b[39mif\u001b[39;00m cancellation_manager \u001b[39mis\u001b[39;00m \u001b[39mNone\u001b[39;00m:\n\u001b[0;32m--> 499\u001b[0m     outputs \u001b[39m=\u001b[39m execute\u001b[39m.\u001b[39;49mexecute(\n\u001b[1;32m    500\u001b[0m         \u001b[39mstr\u001b[39;49m(\u001b[39mself\u001b[39;49m\u001b[39m.\u001b[39;49msignature\u001b[39m.\u001b[39;49mname),\n\u001b[1;32m    501\u001b[0m         num_outputs\u001b[39m=\u001b[39;49m\u001b[39mself\u001b[39;49m\u001b[39m.\u001b[39;49m_num_outputs,\n\u001b[1;32m    502\u001b[0m         inputs\u001b[39m=\u001b[39;49margs,\n\u001b[1;32m    503\u001b[0m         attrs\u001b[39m=\u001b[39;49mattrs,\n\u001b[1;32m    504\u001b[0m         ctx\u001b[39m=\u001b[39;49mctx)\n\u001b[1;32m    505\u001b[0m   \u001b[39melse\u001b[39;00m:\n\u001b[1;32m    506\u001b[0m     outputs \u001b[39m=\u001b[39m execute\u001b[39m.\u001b[39mexecute_with_cancellation(\n\u001b[1;32m    507\u001b[0m         \u001b[39mstr\u001b[39m(\u001b[39mself\u001b[39m\u001b[39m.\u001b[39msignature\u001b[39m.\u001b[39mname),\n\u001b[1;32m    508\u001b[0m         num_outputs\u001b[39m=\u001b[39m\u001b[39mself\u001b[39m\u001b[39m.\u001b[39m_num_outputs,\n\u001b[0;32m   (...)\u001b[0m\n\u001b[1;32m    511\u001b[0m         ctx\u001b[39m=\u001b[39mctx,\n\u001b[1;32m    512\u001b[0m         cancellation_manager\u001b[39m=\u001b[39mcancellation_manager)\n",
      "File \u001b[0;32m~/Library/Python/3.10/lib/python/site-packages/tensorflow/python/eager/execute.py:54\u001b[0m, in \u001b[0;36mquick_execute\u001b[0;34m(op_name, num_outputs, inputs, attrs, ctx, name)\u001b[0m\n\u001b[1;32m     52\u001b[0m \u001b[39mtry\u001b[39;00m:\n\u001b[1;32m     53\u001b[0m   ctx\u001b[39m.\u001b[39mensure_initialized()\n\u001b[0;32m---> 54\u001b[0m   tensors \u001b[39m=\u001b[39m pywrap_tfe\u001b[39m.\u001b[39;49mTFE_Py_Execute(ctx\u001b[39m.\u001b[39;49m_handle, device_name, op_name,\n\u001b[1;32m     55\u001b[0m                                       inputs, attrs, num_outputs)\n\u001b[1;32m     56\u001b[0m \u001b[39mexcept\u001b[39;00m core\u001b[39m.\u001b[39m_NotOkStatusException \u001b[39mas\u001b[39;00m e:\n\u001b[1;32m     57\u001b[0m   \u001b[39mif\u001b[39;00m name \u001b[39mis\u001b[39;00m \u001b[39mnot\u001b[39;00m \u001b[39mNone\u001b[39;00m:\n",
      "\u001b[0;31mKeyboardInterrupt\u001b[0m: "
     ]
    }
   ],
   "source": [
    "history = model.evaluate(evaluation_dataset, evaluation_dataset_labels)"
   ]
  },
  {
   "cell_type": "code",
   "execution_count": null,
   "metadata": {},
   "outputs": [],
   "source": [
    "model.predict(evaluation_dataset[5])"
   ]
  },
  {
   "cell_type": "code",
   "execution_count": null,
   "metadata": {},
   "outputs": [],
   "source": []
  }
 ],
 "metadata": {
  "colab": {
   "provenance": []
  },
  "kernelspec": {
   "display_name": "Python 3.10.8 64-bit",
   "language": "python",
   "name": "python3"
  },
  "language_info": {
   "codemirror_mode": {
    "name": "ipython",
    "version": 3
   },
   "file_extension": ".py",
   "mimetype": "text/x-python",
   "name": "python",
   "nbconvert_exporter": "python",
   "pygments_lexer": "ipython3",
   "version": "3.10.8"
  },
  "vscode": {
   "interpreter": {
    "hash": "b0fa6594d8f4cbf19f97940f81e996739fb7646882a419484c72d19e05852a7e"
   }
  }
 },
 "nbformat": 4,
 "nbformat_minor": 1
}
