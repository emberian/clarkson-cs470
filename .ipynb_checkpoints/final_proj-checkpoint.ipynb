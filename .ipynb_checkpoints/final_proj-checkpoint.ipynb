{
 "cells": [
  {
   "cell_type": "code",
   "execution_count": null,
   "metadata": {
    "colab": {
     "base_uri": "https://localhost:8080/"
    },
    "executionInfo": {
     "elapsed": 3133,
     "status": "ok",
     "timestamp": 1670274700839,
     "user": {
      "displayName": "Ember Richardson",
      "userId": "05921004582757010193"
     },
     "user_tz": 300
    },
    "id": "ie76vEKeBDAv",
    "outputId": "fc494b1a-0a09-4678-c862-cbda099ec881"
   },
   "outputs": [
    {
     "name": "stdout",
     "output_type": "stream",
     "text": [
      "2.9.2\n"
     ]
    }
   ],
   "source": [
    "# imports\n",
    "import os\n",
    "import tensorflow as tf\n",
    "from tensorflow import keras\n",
    "import numpy as np\n",
    "from numpy import genfromtxt\n",
    "print(tf.__version__)"
   ]
  },
  {
   "cell_type": "code",
   "execution_count": null,
   "metadata": {
    "colab": {
     "base_uri": "https://localhost:8080/"
    },
    "executionInfo": {
     "elapsed": 33891,
     "status": "ok",
     "timestamp": 1670278532791,
     "user": {
      "displayName": "Ember Richardson",
      "userId": "05921004582757010193"
     },
     "user_tz": 300
    },
    "id": "f4fttJacDzEe",
    "outputId": "358931ee-e096-43c0-8512-e3f65aaa1a4d"
   },
   "outputs": [
    {
     "name": "stdout",
     "output_type": "stream",
     "text": [
      "Drive already mounted at /content/drive; to attempt to forcibly remount, call drive.mount(\"/content/drive\", force_remount=True).\n"
     ]
    }
   ],
   "source": [
    "# data\n",
    "#dtypes = {\n",
    "#    'fraud_bool':'?', 'income': 'f4', 'name_email_similarity': 'f2', \n",
    "#    'prev_address_months_count': 'u2', \n",
    "#    'current_address_months_count': 'u2', 'customer_age': 'u1', \n",
    "    # 'days_since_request', 'intended_balcon_amount', 'payment_type', 'zip_count_4w', 'velocity_6h', 'velocity_24h', 'velocity_4w', 'bank_branch_count_8w', 'date_of_birth_distinct_emails_4w', 'employment_status', 'credit_risk_score', 'email_is_free', 'housing_status', 'phone_home_valid', 'phone_mobile_valid', 'bank_months_count', 'has_other_cards', 'proposed_credit_limit', 'foreign_request', 'source', 'session_length_in_minutes', 'device_os', 'keep_alive_session', 'device_distinct_emails_8w', 'device_fraud_count', 'month\\n']\n",
    "#}\n",
    "data = genfromtxt('Base.csv', delimiter=',') # load data\n",
    "is_fraud_ground_truth = data[:,0]\n",
    "column_labels = data[0,:]\n",
    "real_dataset = data[1:,1:]\n",
    "training_size = real_dataset.size*20\n",
    "training_dataset = real_dataset[:training_size,:]\n",
    "evaluation_dataset = real_dataset[training_size:,:]"
   ]
  },
  {
   "cell_type": "code",
   "execution_count": null,
   "metadata": {
    "colab": {
     "base_uri": "https://localhost:8080/"
    },
    "executionInfo": {
     "elapsed": 10,
     "status": "ok",
     "timestamp": 1670275273038,
     "user": {
      "displayName": "Ethan Arnold",
      "userId": "01409695177043745960"
     },
     "user_tz": 300
    },
    "id": "yAzOFxwOH66W",
    "outputId": "4b384ad9-105a-4a11-91c5-d62b890e91bc"
   },
   "outputs": [
    {
     "name": "stdout",
     "output_type": "stream",
     "text": [
      "[nan  1.  1. ...  0.  0.  0.]\n"
     ]
    }
   ],
   "source": [
    "print(is_fraud_ground_truth)"
   ]
  },
  {
   "cell_type": "code",
   "execution_count": null,
   "metadata": {
    "colab": {
     "base_uri": "https://localhost:8080/"
    },
    "executionInfo": {
     "elapsed": 144,
     "status": "ok",
     "timestamp": 1670278573430,
     "user": {
      "displayName": "Ember Richardson",
      "userId": "05921004582757010193"
     },
     "user_tz": 300
    },
    "id": "PTh3HkUEUfCM",
    "outputId": "f4f08497-159a-49f9-8e07-79608675b5c5"
   },
   "outputs": [
    {
     "name": "stdout",
     "output_type": "stream",
     "text": [
      "['fraud_bool', 'income', 'name_email_similarity', 'prev_address_months_count', 'current_address_months_count', 'customer_age', 'days_since_request', 'intended_balcon_amount', 'payment_type', 'zip_count_4w', 'velocity_6h', 'velocity_24h', 'velocity_4w', 'bank_branch_count_8w', 'date_of_birth_distinct_emails_4w', 'employment_status', 'credit_risk_score', 'email_is_free', 'housing_status', 'phone_home_valid', 'phone_mobile_valid', 'bank_months_count', 'has_other_cards', 'proposed_credit_limit', 'foreign_request', 'source', 'session_length_in_minutes', 'device_os', 'keep_alive_session', 'device_distinct_emails_8w', 'device_fraud_count', 'month\\n']\n"
     ]
    }
   ],
   "source": [
    "column_labels = next(open('Base.csv')).split(',')\n",
    "print(column_labels)"
   ]
  },
  {
   "cell_type": "code",
   "execution_count": null,
   "metadata": {
    "colab": {
     "base_uri": "https://localhost:8080/"
    },
    "executionInfo": {
     "elapsed": 141,
     "status": "ok",
     "timestamp": 1670278116095,
     "user": {
      "displayName": "Ember Richardson",
      "userId": "05921004582757010193"
     },
     "user_tz": 300
    },
    "id": "fPX9g3ZIUen9",
    "outputId": "24fecd2b-2888-4a6e-8806-972ec1e6c3cf"
   },
   "outputs": [
    {
     "name": "stdout",
     "output_type": "stream",
     "text": [
      "[[ 9.00000000e-01  1.66827734e-01 -1.00000000e+00  8.80000000e+01\n",
      "   5.00000000e+01  2.09251728e-02 -1.33134496e+00             nan\n",
      "   7.69000000e+02  1.06507655e+04  3.13431963e+03  3.86364774e+03\n",
      "   1.00000000e+00  6.00000000e+00             nan  1.85000000e+02\n",
      "   0.00000000e+00             nan  1.00000000e+00  0.00000000e+00\n",
      "   2.40000000e+01  0.00000000e+00  5.00000000e+02  0.00000000e+00\n",
      "              nan  3.88811460e+00             nan  0.00000000e+00\n",
      "   1.00000000e+00  0.00000000e+00  7.00000000e+00]\n",
      " [ 9.00000000e-01  2.96286005e-01 -1.00000000e+00  1.44000000e+02\n",
      "   5.00000000e+01  5.41753833e-03 -8.16223755e-01             nan\n",
      "   3.66000000e+02  5.34047319e+02  2.67091829e+03  3.12429817e+03\n",
      "   7.18000000e+02  3.00000000e+00             nan  2.59000000e+02\n",
      "   1.00000000e+00             nan  0.00000000e+00  0.00000000e+00\n",
      "   1.50000000e+01  0.00000000e+00  1.50000000e+03  0.00000000e+00\n",
      "              nan  3.17988194e+01             nan  0.00000000e+00\n",
      "   1.00000000e+00  0.00000000e+00  7.00000000e+00]]\n"
     ]
    }
   ],
   "source": [
    "print(real_dataset[0:2])"
   ]
  },
  {
   "cell_type": "markdown",
   "metadata": {
    "id": "Guq81mAAGG_L"
   },
   "source": []
  },
  {
   "cell_type": "code",
   "execution_count": null,
   "metadata": {
    "id": "NHTyDJ31HqHb"
   },
   "outputs": [],
   "source": [
    "#Model old\n",
    "model = keras.Sequential([\n",
    "    keras.layers.Flatten(input_shape=(len(data), len(data[0]))),       #input_shape=(28, 28) for digit\n",
    "    keras.layers.Dense(30, activation='relu'),\n",
    "    keras.layers.Dense(128, activation='relu'),\n",
    "    keras.layers.Dense(32, activation='relu'),\n",
    "    keras.layers.Dense(2)\n",
    "])\n"
   ]
  }
 ],
 "metadata": {
  "colab": {
   "provenance": []
  },
  "kernelspec": {
   "display_name": "Python 3 (ipykernel)",
   "language": "python",
   "name": "python3"
  },
  "language_info": {
   "codemirror_mode": {
    "name": "ipython",
    "version": 3
   },
   "file_extension": ".py",
   "mimetype": "text/x-python",
   "name": "python",
   "nbconvert_exporter": "python",
   "pygments_lexer": "ipython3",
   "version": "3.10.8"
  },
  "vscode": {
   "interpreter": {
    "hash": "953950e288e61d2215999b44f1cd7e7376d75fb4026773cb9dc56d843991790d"
   }
  }
 },
 "nbformat": 4,
 "nbformat_minor": 1
}
